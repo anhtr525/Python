{
 "cells": [
  {
   "cell_type": "code",
   "execution_count": 13,
   "metadata": {},
   "outputs": [],
   "source": [
    "import numpy as np\n",
    "import matplotlib.pyplot as plt\n",
    "%matplotlib inline\n",
    "import pandas as pd"
   ]
  },
  {
   "cell_type": "code",
   "execution_count": 14,
   "metadata": {},
   "outputs": [],
   "source": [
    "x = pd.read_csv(\"http://users.stat.ufl.edu/~winner/data/gnpnrg_internet_2010.csv\")"
   ]
  },
  {
   "cell_type": "code",
   "execution_count": 15,
   "metadata": {},
   "outputs": [
    {
     "data": {
      "text/html": [
       "<div>\n",
       "<style scoped>\n",
       "    .dataframe tbody tr th:only-of-type {\n",
       "        vertical-align: middle;\n",
       "    }\n",
       "\n",
       "    .dataframe tbody tr th {\n",
       "        vertical-align: top;\n",
       "    }\n",
       "\n",
       "    .dataframe thead th {\n",
       "        text-align: right;\n",
       "    }\n",
       "</style>\n",
       "<table border=\"1\" class=\"dataframe\">\n",
       "  <thead>\n",
       "    <tr style=\"text-align: right;\">\n",
       "      <th></th>\n",
       "      <th>country</th>\n",
       "      <th>code</th>\n",
       "      <th>gdpEnergy</th>\n",
       "      <th>internetPct</th>\n",
       "    </tr>\n",
       "  </thead>\n",
       "  <tbody>\n",
       "    <tr>\n",
       "      <th>0</th>\n",
       "      <td>Finland</td>\n",
       "      <td>FIN</td>\n",
       "      <td>5.781</td>\n",
       "      <td>86.89</td>\n",
       "    </tr>\n",
       "    <tr>\n",
       "      <th>1</th>\n",
       "      <td>Croatia</td>\n",
       "      <td>HRV</td>\n",
       "      <td>10.311</td>\n",
       "      <td>56.55</td>\n",
       "    </tr>\n",
       "    <tr>\n",
       "      <th>2</th>\n",
       "      <td>Turkmenistan</td>\n",
       "      <td>TKM</td>\n",
       "      <td>2.230</td>\n",
       "      <td>3.00</td>\n",
       "    </tr>\n",
       "    <tr>\n",
       "      <th>3</th>\n",
       "      <td>Austria</td>\n",
       "      <td>AUT</td>\n",
       "      <td>10.531</td>\n",
       "      <td>75.17</td>\n",
       "    </tr>\n",
       "    <tr>\n",
       "      <th>4</th>\n",
       "      <td>Benin</td>\n",
       "      <td>BEN</td>\n",
       "      <td>4.580</td>\n",
       "      <td>3.13</td>\n",
       "    </tr>\n",
       "    <tr>\n",
       "      <th>...</th>\n",
       "      <td>...</td>\n",
       "      <td>...</td>\n",
       "      <td>...</td>\n",
       "      <td>...</td>\n",
       "    </tr>\n",
       "    <tr>\n",
       "      <th>131</th>\n",
       "      <td>Singapore</td>\n",
       "      <td>SGP</td>\n",
       "      <td>14.385</td>\n",
       "      <td>71.00</td>\n",
       "    </tr>\n",
       "    <tr>\n",
       "      <th>132</th>\n",
       "      <td>Bangladesh</td>\n",
       "      <td>BGD</td>\n",
       "      <td>12.217</td>\n",
       "      <td>3.70</td>\n",
       "    </tr>\n",
       "    <tr>\n",
       "      <th>133</th>\n",
       "      <td>Israel</td>\n",
       "      <td>ISR</td>\n",
       "      <td>9.746</td>\n",
       "      <td>67.50</td>\n",
       "    </tr>\n",
       "    <tr>\n",
       "      <th>134</th>\n",
       "      <td>Cameroon</td>\n",
       "      <td>CMR</td>\n",
       "      <td>7.610</td>\n",
       "      <td>4.30</td>\n",
       "    </tr>\n",
       "    <tr>\n",
       "      <th>135</th>\n",
       "      <td>Congo, Dem. Rep.</td>\n",
       "      <td>COD</td>\n",
       "      <td>1.980</td>\n",
       "      <td>0.72</td>\n",
       "    </tr>\n",
       "  </tbody>\n",
       "</table>\n",
       "<p>136 rows × 4 columns</p>\n",
       "</div>"
      ],
      "text/plain": [
       "              country code  gdpEnergy  internetPct\n",
       "0             Finland  FIN      5.781        86.89\n",
       "1             Croatia  HRV     10.311        56.55\n",
       "2        Turkmenistan  TKM      2.230         3.00\n",
       "3             Austria  AUT     10.531        75.17\n",
       "4               Benin  BEN      4.580         3.13\n",
       "..                ...  ...        ...          ...\n",
       "131         Singapore  SGP     14.385        71.00\n",
       "132        Bangladesh  BGD     12.217         3.70\n",
       "133            Israel  ISR      9.746        67.50\n",
       "134          Cameroon  CMR      7.610         4.30\n",
       "135  Congo, Dem. Rep.  COD      1.980         0.72\n",
       "\n",
       "[136 rows x 4 columns]"
      ]
     },
     "execution_count": 15,
     "metadata": {},
     "output_type": "execute_result"
    }
   ],
   "source": [
    "x"
   ]
  },
  {
   "cell_type": "code",
   "execution_count": 16,
   "metadata": {},
   "outputs": [
    {
     "data": {
      "text/plain": [
       "pandas.core.frame.DataFrame"
      ]
     },
     "execution_count": 16,
     "metadata": {},
     "output_type": "execute_result"
    }
   ],
   "source": [
    "type(x)"
   ]
  },
  {
   "cell_type": "code",
   "execution_count": 17,
   "metadata": {},
   "outputs": [],
   "source": [
    "gdpEnergy = x[\"gdpEnergy\"].values"
   ]
  },
  {
   "cell_type": "code",
   "execution_count": 18,
   "metadata": {},
   "outputs": [
    {
     "data": {
      "text/plain": [
       "numpy.ndarray"
      ]
     },
     "execution_count": 18,
     "metadata": {},
     "output_type": "execute_result"
    }
   ],
   "source": [
    "type(gdpEnergy)"
   ]
  },
  {
   "cell_type": "code",
   "execution_count": 19,
   "metadata": {},
   "outputs": [
    {
     "data": {
      "text/plain": [
       "136"
      ]
     },
     "execution_count": 19,
     "metadata": {},
     "output_type": "execute_result"
    }
   ],
   "source": [
    "gdpEnergy.size"
   ]
  },
  {
   "cell_type": "code",
   "execution_count": 20,
   "metadata": {},
   "outputs": [
    {
     "data": {
      "text/plain": [
       "(136,)"
      ]
     },
     "execution_count": 20,
     "metadata": {},
     "output_type": "execute_result"
    }
   ],
   "source": [
    "gdpEnergy.shape"
   ]
  },
  {
   "cell_type": "code",
   "execution_count": 21,
   "metadata": {},
   "outputs": [
    {
     "data": {
      "text/plain": [
       "1"
      ]
     },
     "execution_count": 21,
     "metadata": {},
     "output_type": "execute_result"
    }
   ],
   "source": [
    "gdpEnergy.ndim"
   ]
  },
  {
   "cell_type": "code",
   "execution_count": 22,
   "metadata": {},
   "outputs": [],
   "source": [
    "internetPct = x[\"internetPct\"].values"
   ]
  },
  {
   "cell_type": "code",
   "execution_count": 23,
   "metadata": {},
   "outputs": [
    {
     "data": {
      "text/plain": [
       "numpy.ndarray"
      ]
     },
     "execution_count": 23,
     "metadata": {},
     "output_type": "execute_result"
    }
   ],
   "source": [
    "type(internetPct)"
   ]
  },
  {
   "cell_type": "code",
   "execution_count": 24,
   "metadata": {},
   "outputs": [
    {
     "data": {
      "text/plain": [
       "136"
      ]
     },
     "execution_count": 24,
     "metadata": {},
     "output_type": "execute_result"
    }
   ],
   "source": [
    "internetPct.size"
   ]
  },
  {
   "cell_type": "code",
   "execution_count": 25,
   "metadata": {},
   "outputs": [
    {
     "data": {
      "text/plain": [
       "(136,)"
      ]
     },
     "execution_count": 25,
     "metadata": {},
     "output_type": "execute_result"
    }
   ],
   "source": [
    "internetPct.shape"
   ]
  },
  {
   "cell_type": "code",
   "execution_count": 26,
   "metadata": {},
   "outputs": [
    {
     "data": {
      "text/plain": [
       "1"
      ]
     },
     "execution_count": 26,
     "metadata": {},
     "output_type": "execute_result"
    }
   ],
   "source": [
    "internetPct.ndim"
   ]
  },
  {
   "cell_type": "code",
   "execution_count": 27,
   "metadata": {},
   "outputs": [
    {
     "data": {
      "text/plain": [
       "Text(0, 0.5, 'INTERNET PCT')"
      ]
     },
     "execution_count": 27,
     "metadata": {},
     "output_type": "execute_result"
    },
    {
     "data": {
      "image/png": "[encoded data removed]",
      "text/plain": [
       "<Figure size 432x288 with 1 Axes>"
      ]
     },
     "metadata": {
      "needs_background": "light"
     },
     "output_type": "display_data"
    }
   ],
   "source": [
    "plt.scatter(gdpEnergy, internetPct, marker = \"s\", color = \"k\")\n",
    "plt.title(\"GDP ENERGY & INTERNET PCT\", fontsize = 20)\n",
    "plt.xlabel(\"GDP ENERGY\")\n",
    "plt.ylabel(\"INTERNET PCT\")"
   ]
  },
  {
   "cell_type": "code",
   "execution_count": 28,
   "metadata": {},
   "outputs": [],
   "source": [
    "y = [\"Singapore\", \"China\", \"Japan\", \"United Kingdom\", \"Vietnam\", \"Korea, Rep.\", \"United States\"]"
   ]
  },
  {
   "cell_type": "code",
   "execution_count": 29,
   "metadata": {},
   "outputs": [],
   "source": [
    "a = x[x[\"country\"].isin(y)]"
   ]
  },
  {
   "cell_type": "code",
   "execution_count": 30,
   "metadata": {},
   "outputs": [
    {
     "data": {
      "text/html": [
       "<div>\n",
       "<style scoped>\n",
       "    .dataframe tbody tr th:only-of-type {\n",
       "        vertical-align: middle;\n",
       "    }\n",
       "\n",
       "    .dataframe tbody tr th {\n",
       "        vertical-align: top;\n",
       "    }\n",
       "\n",
       "    .dataframe thead th {\n",
       "        text-align: right;\n",
       "    }\n",
       "</style>\n",
       "<table border=\"1\" class=\"dataframe\">\n",
       "  <thead>\n",
       "    <tr style=\"text-align: right;\">\n",
       "      <th></th>\n",
       "      <th>country</th>\n",
       "      <th>code</th>\n",
       "      <th>gdpEnergy</th>\n",
       "      <th>internetPct</th>\n",
       "    </tr>\n",
       "  </thead>\n",
       "  <tbody>\n",
       "    <tr>\n",
       "      <th>46</th>\n",
       "      <td>United States</td>\n",
       "      <td>USA</td>\n",
       "      <td>6.894</td>\n",
       "      <td>71.69</td>\n",
       "    </tr>\n",
       "    <tr>\n",
       "      <th>91</th>\n",
       "      <td>Korea, Rep.</td>\n",
       "      <td>KOR</td>\n",
       "      <td>6.016</td>\n",
       "      <td>83.70</td>\n",
       "    </tr>\n",
       "    <tr>\n",
       "      <th>97</th>\n",
       "      <td>Vietnam</td>\n",
       "      <td>VNM</td>\n",
       "      <td>6.620</td>\n",
       "      <td>30.65</td>\n",
       "    </tr>\n",
       "    <tr>\n",
       "      <th>106</th>\n",
       "      <td>Japan</td>\n",
       "      <td>JPN</td>\n",
       "      <td>8.836</td>\n",
       "      <td>78.21</td>\n",
       "    </tr>\n",
       "    <tr>\n",
       "      <th>116</th>\n",
       "      <td>United Kingdom</td>\n",
       "      <td>GBR</td>\n",
       "      <td>11.214</td>\n",
       "      <td>85.00</td>\n",
       "    </tr>\n",
       "    <tr>\n",
       "      <th>121</th>\n",
       "      <td>China</td>\n",
       "      <td>CHN</td>\n",
       "      <td>5.109</td>\n",
       "      <td>34.30</td>\n",
       "    </tr>\n",
       "    <tr>\n",
       "      <th>131</th>\n",
       "      <td>Singapore</td>\n",
       "      <td>SGP</td>\n",
       "      <td>14.385</td>\n",
       "      <td>71.00</td>\n",
       "    </tr>\n",
       "  </tbody>\n",
       "</table>\n",
       "</div>"
      ],
      "text/plain": [
       "            country code  gdpEnergy  internetPct\n",
       "46    United States  USA      6.894        71.69\n",
       "91      Korea, Rep.  KOR      6.016        83.70\n",
       "97          Vietnam  VNM      6.620        30.65\n",
       "106           Japan  JPN      8.836        78.21\n",
       "116  United Kingdom  GBR     11.214        85.00\n",
       "121           China  CHN      5.109        34.30\n",
       "131       Singapore  SGP     14.385        71.00"
      ]
     },
     "execution_count": 30,
     "metadata": {},
     "output_type": "execute_result"
    }
   ],
   "source": [
    "a"
   ]
  },
  {
   "cell_type": "code",
   "execution_count": 31,
   "metadata": {},
   "outputs": [],
   "source": [
    "GDP = a[\"gdpEnergy\"].values"
   ]
  },
  {
   "cell_type": "code",
   "execution_count": 32,
   "metadata": {},
   "outputs": [
    {
     "data": {
      "text/plain": [
       "array(['Finland', 'Croatia', 'Turkmenistan', 'Austria', 'Benin',\n",
       "       'Ecuador', 'Australia', 'Zambia', 'Ukraine', 'Cambodia', 'Ireland',\n",
       "       'Ghana', 'Brazil', 'Azerbaijan', 'Namibia', 'Nicaragua', 'Nepal',\n",
       "       'Iceland', 'Albania', 'Romania', 'Panama', 'Arab World', 'Eritrea',\n",
       "       'Saudi Arabia', 'United Arab Emirates', 'Turkey', 'Libya', 'Oman',\n",
       "       'Germany', 'Georgia', 'France', 'Haiti', 'Bolivia', 'Honduras',\n",
       "       'Jordan', 'Armenia', 'Denmark', 'Mauritius', 'Qatar',\n",
       "       \"Cote d'Ivoire\", 'Cyprus', 'Netherlands', 'Uruguay', 'Guatemala',\n",
       "       'Canada', 'India', 'United States', 'Sri Lanka', 'Peru', 'Norway',\n",
       "       'Luxembourg', 'Belgium', 'Bahrain', 'Nigeria', 'Portugal',\n",
       "       'Hong Kong SAR, China', 'Belarus', 'Ethiopia', 'Argentina',\n",
       "       'Mozambique', 'Russian Federation', 'Senegal', 'Kazakhstan',\n",
       "       'Chile', 'Egypt, Arab Rep.', 'Spain', 'Thailand', 'Switzerland',\n",
       "       'Macedonia, FYR', 'Zimbabwe', 'Mexico', 'Congo, Rep.',\n",
       "       'Iran, Islamic Rep.', 'Tajikistan', 'Slovenia', 'Slovak Republic',\n",
       "       'Togo', 'Montenegro', 'Bulgaria', 'Tanzania', 'Colombia', 'Cuba',\n",
       "       'Algeria', 'Moldova', 'Indonesia', 'South Africa',\n",
       "       'Bosnia and Herzegovina', 'Morocco', 'Tunisia', 'Czech Republic',\n",
       "       'Brunei Darussalam', 'Korea, Rep.', 'Latvia', 'Costa Rica',\n",
       "       'Gabon', 'Philippines', 'Jamaica', 'Vietnam', 'Iraq', 'Mongolia',\n",
       "       'Hungary', 'Paraguay', 'Greece', 'Malta', 'High income',\n",
       "       'Venezuela, RB', 'Japan', 'Sweden', 'Poland', 'Kenya', 'Sudan',\n",
       "       'El Salvador', 'Botswana', 'Kyrgyz Republic', 'Italy', 'Angola',\n",
       "       'United Kingdom', 'Serbia', 'Kuwait', 'Dominican Republic',\n",
       "       'Malaysia', 'China', 'Estonia', 'Uzbekistan', 'Yemen, Rep.',\n",
       "       'Niger', 'Lebanon', 'Lithuania', 'New Zealand',\n",
       "       'Trinidad and Tobago', 'Pakistan', 'Singapore', 'Bangladesh',\n",
       "       'Israel', 'Cameroon', 'Congo, Dem. Rep.'], dtype=object)"
      ]
     },
     "execution_count": 32,
     "metadata": {},
     "output_type": "execute_result"
    }
   ],
   "source": [
    "x[\"country\"].values"
   ]
  },
  {
   "cell_type": "code",
   "execution_count": 33,
   "metadata": {},
   "outputs": [],
   "source": [
    "PCT = a[\"internetPct\"].values"
   ]
  },
  {
   "cell_type": "code",
   "execution_count": 34,
   "metadata": {},
   "outputs": [
    {
     "data": {
      "text/plain": [
       "<matplotlib.lines.Line2D at 0x7ff03df8e610>"
      ]
     },
     "execution_count": 34,
     "metadata": {},
     "output_type": "execute_result"
    },
    {
     "data": {
      "image/png": "[encoded data removed]",
      "text/plain": [
       "<Figure size 432x288 with 1 Axes>"
      ]
     },
     "metadata": {
      "needs_background": "light"
     },
     "output_type": "display_data"
    }
   ],
   "source": [
    "plt.scatter(GDP, PCT, color = \"r\", s = 25)\n",
    "plt.axhline(0)\n",
    "plt.axvline(0)"
   ]
  },
  {
   "cell_type": "code",
   "execution_count": 35,
   "metadata": {},
   "outputs": [
    {
     "data": {
      "text/plain": [
       "8.439142857142857"
      ]
     },
     "execution_count": 35,
     "metadata": {},
     "output_type": "execute_result"
    }
   ],
   "source": [
    "GDP.mean()"
   ]
  },
  {
   "cell_type": "code",
   "execution_count": 36,
   "metadata": {},
   "outputs": [
    {
     "data": {
      "text/plain": [
       "8.801941176470587"
      ]
     },
     "execution_count": 36,
     "metadata": {},
     "output_type": "execute_result"
    }
   ],
   "source": [
    "gdpEnergy.mean()"
   ]
  },
  {
   "cell_type": "code",
   "execution_count": 37,
   "metadata": {},
   "outputs": [
    {
     "data": {
      "text/plain": [
       "<matplotlib.legend.Legend at 0x7ff03dfa3a60>"
      ]
     },
     "execution_count": 37,
     "metadata": {},
     "output_type": "execute_result"
    },
    {
     "data": {
      "image/png": "[encoded data removed]",
      "text/plain": [
       "<Figure size 432x288 with 1 Axes>"
      ]
     },
     "metadata": {
      "needs_background": "light"
     },
     "output_type": "display_data"
    }
   ],
   "source": [
    "plt.scatter(gdpEnergy, internetPct, marker = \"s\", color = \"k\")\n",
    "plt.title(\"GDP ENERGY & INTERNET PCT\", fontsize = 20)\n",
    "plt.xlabel(\"GDP ENERGY\")\n",
    "plt.ylabel(\"INTERNET PCT\")\n",
    "plt.scatter(GDP, PCT, color = \"r\", s = 30)\n",
    "plt.legend([\"All countries\", \"Selected countries\"], loc = \"best\")"
   ]
  },
  {
   "cell_type": "code",
   "execution_count": 38,
   "metadata": {},
   "outputs": [],
   "source": [
    "b = pd.read_csv(\"http://users.stat.ufl.edu/~winner/data/greenhousegas_pop_10nations.csv\")"
   ]
  },
  {
   "cell_type": "code",
   "execution_count": 39,
   "metadata": {},
   "outputs": [
    {
     "data": {
      "text/html": [
       "<div>\n",
       "<style scoped>\n",
       "    .dataframe tbody tr th:only-of-type {\n",
       "        vertical-align: middle;\n",
       "    }\n",
       "\n",
       "    .dataframe tbody tr th {\n",
       "        vertical-align: top;\n",
       "    }\n",
       "\n",
       "    .dataframe thead th {\n",
       "        text-align: right;\n",
       "    }\n",
       "</style>\n",
       "<table border=\"1\" class=\"dataframe\">\n",
       "  <thead>\n",
       "    <tr style=\"text-align: right;\">\n",
       "      <th></th>\n",
       "      <th>country</th>\n",
       "      <th>code</th>\n",
       "      <th>year</th>\n",
       "      <th>grnGasEm100K</th>\n",
       "      <th>pop10M</th>\n",
       "    </tr>\n",
       "  </thead>\n",
       "  <tbody>\n",
       "    <tr>\n",
       "      <th>0</th>\n",
       "      <td>Brazil</td>\n",
       "      <td>BRA</td>\n",
       "      <td>1970</td>\n",
       "      <td>12.6098</td>\n",
       "      <td>9.5982</td>\n",
       "    </tr>\n",
       "    <tr>\n",
       "      <th>1</th>\n",
       "      <td>Canada</td>\n",
       "      <td>CAN</td>\n",
       "      <td>1970</td>\n",
       "      <td>4.9497</td>\n",
       "      <td>2.1324</td>\n",
       "    </tr>\n",
       "    <tr>\n",
       "      <th>2</th>\n",
       "      <td>China</td>\n",
       "      <td>CHN</td>\n",
       "      <td>1970</td>\n",
       "      <td>18.7397</td>\n",
       "      <td>81.8315</td>\n",
       "    </tr>\n",
       "    <tr>\n",
       "      <th>3</th>\n",
       "      <td>Germany</td>\n",
       "      <td>DEU</td>\n",
       "      <td>1970</td>\n",
       "      <td>12.8657</td>\n",
       "      <td>7.8169</td>\n",
       "    </tr>\n",
       "    <tr>\n",
       "      <th>4</th>\n",
       "      <td>France</td>\n",
       "      <td>FRA</td>\n",
       "      <td>1970</td>\n",
       "      <td>6.1450</td>\n",
       "      <td>5.2035</td>\n",
       "    </tr>\n",
       "    <tr>\n",
       "      <th>...</th>\n",
       "      <td>...</td>\n",
       "      <td>...</td>\n",
       "      <td>...</td>\n",
       "      <td>...</td>\n",
       "      <td>...</td>\n",
       "    </tr>\n",
       "    <tr>\n",
       "      <th>425</th>\n",
       "      <td>United Kingdom</td>\n",
       "      <td>GBR</td>\n",
       "      <td>2012</td>\n",
       "      <td>5.8578</td>\n",
       "      <td>6.3700</td>\n",
       "    </tr>\n",
       "    <tr>\n",
       "      <th>426</th>\n",
       "      <td>India</td>\n",
       "      <td>IND</td>\n",
       "      <td>2012</td>\n",
       "      <td>30.0289</td>\n",
       "      <td>126.3590</td>\n",
       "    </tr>\n",
       "    <tr>\n",
       "      <th>427</th>\n",
       "      <td>Japan</td>\n",
       "      <td>JPN</td>\n",
       "      <td>2012</td>\n",
       "      <td>14.7886</td>\n",
       "      <td>12.7561</td>\n",
       "    </tr>\n",
       "    <tr>\n",
       "      <th>428</th>\n",
       "      <td>Mexico</td>\n",
       "      <td>MEX</td>\n",
       "      <td>2012</td>\n",
       "      <td>6.6342</td>\n",
       "      <td>12.2071</td>\n",
       "    </tr>\n",
       "    <tr>\n",
       "      <th>429</th>\n",
       "      <td>United States</td>\n",
       "      <td>USA</td>\n",
       "      <td>2012</td>\n",
       "      <td>63.4384</td>\n",
       "      <td>31.4103</td>\n",
       "    </tr>\n",
       "  </tbody>\n",
       "</table>\n",
       "<p>430 rows × 5 columns</p>\n",
       "</div>"
      ],
      "text/plain": [
       "            country code  year  grnGasEm100K    pop10M\n",
       "0            Brazil  BRA  1970       12.6098    9.5982\n",
       "1            Canada  CAN  1970        4.9497    2.1324\n",
       "2             China  CHN  1970       18.7397   81.8315\n",
       "3           Germany  DEU  1970       12.8657    7.8169\n",
       "4            France  FRA  1970        6.1450    5.2035\n",
       "..              ...  ...   ...           ...       ...\n",
       "425  United Kingdom  GBR  2012        5.8578    6.3700\n",
       "426           India  IND  2012       30.0289  126.3590\n",
       "427           Japan  JPN  2012       14.7886   12.7561\n",
       "428          Mexico  MEX  2012        6.6342   12.2071\n",
       "429   United States  USA  2012       63.4384   31.4103\n",
       "\n",
       "[430 rows x 5 columns]"
      ]
     },
     "execution_count": 39,
     "metadata": {},
     "output_type": "execute_result"
    }
   ],
   "source": [
    "b"
   ]
  },
  {
   "cell_type": "code",
   "execution_count": 40,
   "metadata": {},
   "outputs": [],
   "source": [
    "grnGas = b[\"grnGasEm100K\"].values"
   ]
  },
  {
   "cell_type": "code",
   "execution_count": 41,
   "metadata": {},
   "outputs": [],
   "source": [
    "pop = b[\"pop10M\"].values"
   ]
  },
  {
   "cell_type": "code",
   "execution_count": 42,
   "metadata": {},
   "outputs": [
    {
     "data": {
      "text/plain": [
       "<matplotlib.collections.PathCollection at 0x7ff03e0ca160>"
      ]
     },
     "execution_count": 42,
     "metadata": {},
     "output_type": "execute_result"
    },
    {
     "data": {
      "image/png": "[encoded data removed]",
      "text/plain": [
       "<Figure size 432x288 with 1 Axes>"
      ]
     },
     "metadata": {
      "needs_background": "light"
     },
     "output_type": "display_data"
    }
   ],
   "source": [
    "plt.scatter(grnGas, pop)"
   ]
  },
  {
   "cell_type": "code",
   "execution_count": 43,
   "metadata": {},
   "outputs": [],
   "source": [
    "country = \"United States\""
   ]
  },
  {
   "cell_type": "code",
   "execution_count": 44,
   "metadata": {},
   "outputs": [],
   "source": [
    "c = b[b[\"country\"] == country]"
   ]
  },
  {
   "cell_type": "code",
   "execution_count": 45,
   "metadata": {},
   "outputs": [],
   "source": [
    "grn = c[\"grnGasEm100K\"].values"
   ]
  },
  {
   "cell_type": "code",
   "execution_count": 46,
   "metadata": {},
   "outputs": [],
   "source": [
    "Pop = c[\"pop10M\"].values"
   ]
  },
  {
   "cell_type": "code",
   "execution_count": 47,
   "metadata": {},
   "outputs": [
    {
     "data": {
      "text/plain": [
       "<matplotlib.collections.PathCollection at 0x7ff03e203fd0>"
      ]
     },
     "execution_count": 47,
     "metadata": {},
     "output_type": "execute_result"
    },
    {
     "data": {
      "image/png": "[encoded data removed]",
      "text/plain": [
       "<Figure size 432x288 with 1 Axes>"
      ]
     },
     "metadata": {
      "needs_background": "light"
     },
     "output_type": "display_data"
    }
   ],
   "source": [
    "plt.scatter(grn, Pop)"
   ]
  },
  {
   "cell_type": "code",
   "execution_count": 48,
   "metadata": {},
   "outputs": [],
   "source": [
    "years = c[\"year\"].values"
   ]
  },
  {
   "cell_type": "code",
   "execution_count": 49,
   "metadata": {},
   "outputs": [
    {
     "data": {
      "text/plain": [
       "[<matplotlib.lines.Line2D at 0x7ff03dfbfcd0>]"
      ]
     },
     "execution_count": 49,
     "metadata": {},
     "output_type": "execute_result"
    },
    {
     "data": {
      "image/png": "[encoded data removed]",
      "text/plain": [
       "<Figure size 432x288 with 1 Axes>"
      ]
     },
     "metadata": {
      "needs_background": "light"
     },
     "output_type": "display_data"
    }
   ],
   "source": [
    "plt.plot(years, grn) \n",
    "#graph the relation between years and greenhouse gas for the US"
   ]
  },
  {
   "cell_type": "code",
   "execution_count": 50,
   "metadata": {},
   "outputs": [
    {
     "data": {
      "text/plain": [
       "[<matplotlib.lines.Line2D at 0x7ff03e3143d0>]"
      ]
     },
     "execution_count": 50,
     "metadata": {},
     "output_type": "execute_result"
    },
    {
     "data": {
      "image/png": "[encoded data removed]",
      "text/plain": [
       "<Figure size 432x288 with 1 Axes>"
      ]
     },
     "metadata": {
      "needs_background": "light"
     },
     "output_type": "display_data"
    }
   ],
   "source": [
    "plt.plot(years, Pop)"
   ]
  },
  {
   "cell_type": "code",
   "execution_count": 51,
   "metadata": {},
   "outputs": [],
   "source": [
    "Country = \"France\""
   ]
  },
  {
   "cell_type": "code",
   "execution_count": 52,
   "metadata": {},
   "outputs": [],
   "source": [
    "d = b[b[\"country\"] == Country]"
   ]
  },
  {
   "cell_type": "code",
   "execution_count": 53,
   "metadata": {},
   "outputs": [],
   "source": [
    "gr = d[\"grnGasEm100K\"].values"
   ]
  },
  {
   "cell_type": "code",
   "execution_count": 54,
   "metadata": {},
   "outputs": [],
   "source": [
    "POP = d[\"pop10M\"].values"
   ]
  },
  {
   "cell_type": "code",
   "execution_count": 55,
   "metadata": {},
   "outputs": [
    {
     "data": {
      "text/plain": [
       "[<matplotlib.lines.Line2D at 0x7ff03e43be20>]"
      ]
     },
     "execution_count": 55,
     "metadata": {},
     "output_type": "execute_result"
    },
    {
     "data": {
      "image/png": "[encoded data removed]",
      "text/plain": [
       "<Figure size 432x288 with 1 Axes>"
      ]
     },
     "metadata": {
      "needs_background": "light"
     },
     "output_type": "display_data"
    }
   ],
   "source": [
    "plt.plot(years, gr)"
   ]
  },
  {
   "cell_type": "code",
   "execution_count": 56,
   "metadata": {},
   "outputs": [
    {
     "data": {
      "text/plain": [
       "[<matplotlib.lines.Line2D at 0x7ff03e4ede80>]"
      ]
     },
     "execution_count": 56,
     "metadata": {},
     "output_type": "execute_result"
    },
    {
     "data": {
      "image/png": "[encoded data removed]",
      "text/plain": [
       "<Figure size 432x288 with 1 Axes>"
      ]
     },
     "metadata": {
      "needs_background": "light"
     },
     "output_type": "display_data"
    }
   ],
   "source": [
    "plt.plot(years, POP)"
   ]
  },
  {
   "cell_type": "code",
   "execution_count": 57,
   "metadata": {},
   "outputs": [
    {
     "data": {
      "text/plain": [
       "[<matplotlib.lines.Line2D at 0x7ff03e561190>]"
      ]
     },
     "execution_count": 57,
     "metadata": {},
     "output_type": "execute_result"
    },
    {
     "data": {
      "image/png": "[encoded data removed]",
      "text/plain": [
       "<Figure size 432x288 with 1 Axes>"
      ]
     },
     "metadata": {
      "needs_background": "light"
     },
     "output_type": "display_data"
    }
   ],
   "source": [
    "plt.plot(years, grn, color = \"r\")\n",
    "plt.plot(years, gr, color = \"blue\")"
   ]
  },
  {
   "cell_type": "code",
   "execution_count": 58,
   "metadata": {},
   "outputs": [
    {
     "data": {
      "text/plain": [
       "Text(1970, 7, 'France')"
      ]
     },
     "execution_count": 58,
     "metadata": {},
     "output_type": "execute_result"
    },
    {
     "data": {
      "image/png": "[encoded data removed]",
      "text/plain": [
       "<Figure size 432x288 with 1 Axes>"
      ]
     },
     "metadata": {
      "needs_background": "light"
     },
     "output_type": "display_data"
    }
   ],
   "source": [
    "plt.plot(years, Pop, color = \"green\")\n",
    "plt.plot(years, POP, color = \"orange\")\n",
    "plt.text(1970, 25, \"United States\")\n",
    "plt.text(1970, 7, \"France\")"
   ]
  },
  {
   "cell_type": "code",
   "execution_count": 59,
   "metadata": {},
   "outputs": [],
   "source": [
    "Corona = pd.read_csv(\"https://data.cdc.gov/resource/9bhg-hcku.csv\")"
   ]
  },
  {
   "cell_type": "code",
   "execution_count": 60,
   "metadata": {},
   "outputs": [
    {
     "data": {
      "text/html": [
       "<div>\n",
       "<style scoped>\n",
       "    .dataframe tbody tr th:only-of-type {\n",
       "        vertical-align: middle;\n",
       "    }\n",
       "\n",
       "    .dataframe tbody tr th {\n",
       "        vertical-align: top;\n",
       "    }\n",
       "\n",
       "    .dataframe thead th {\n",
       "        text-align: right;\n",
       "    }\n",
       "</style>\n",
       "<table border=\"1\" class=\"dataframe\">\n",
       "  <thead>\n",
       "    <tr style=\"text-align: right;\">\n",
       "      <th></th>\n",
       "      <th>data_as_of</th>\n",
       "      <th>start_week</th>\n",
       "      <th>end_week</th>\n",
       "      <th>state</th>\n",
       "      <th>sex</th>\n",
       "      <th>age_group</th>\n",
       "      <th>covid_19_deaths</th>\n",
       "      <th>total_deaths</th>\n",
       "      <th>pneumonia_deaths</th>\n",
       "      <th>pneumonia_and_covid_19_deaths</th>\n",
       "      <th>influenza_deaths</th>\n",
       "      <th>pneumonia_influenza_or_covid</th>\n",
       "      <th>footnote</th>\n",
       "    </tr>\n",
       "  </thead>\n",
       "  <tbody>\n",
       "    <tr>\n",
       "      <th>0</th>\n",
       "      <td>2020-07-29T00:00:00.000</td>\n",
       "      <td>2020-02-01T00:00:00.000</td>\n",
       "      <td>2020-07-25T00:00:00.000</td>\n",
       "      <td>United States</td>\n",
       "      <td>All</td>\n",
       "      <td>Under 1 year</td>\n",
       "      <td>14.0</td>\n",
       "      <td>8459.0</td>\n",
       "      <td>77.0</td>\n",
       "      <td>2.0</td>\n",
       "      <td>14.0</td>\n",
       "      <td>103.0</td>\n",
       "      <td>NaN</td>\n",
       "    </tr>\n",
       "    <tr>\n",
       "      <th>1</th>\n",
       "      <td>2020-07-29T00:00:00.000</td>\n",
       "      <td>2020-02-01T00:00:00.000</td>\n",
       "      <td>2020-07-25T00:00:00.000</td>\n",
       "      <td>United States</td>\n",
       "      <td>All</td>\n",
       "      <td>1-4 years</td>\n",
       "      <td>9.0</td>\n",
       "      <td>1620.0</td>\n",
       "      <td>54.0</td>\n",
       "      <td>2.0</td>\n",
       "      <td>41.0</td>\n",
       "      <td>102.0</td>\n",
       "      <td>NaN</td>\n",
       "    </tr>\n",
       "    <tr>\n",
       "      <th>2</th>\n",
       "      <td>2020-07-29T00:00:00.000</td>\n",
       "      <td>2020-02-01T00:00:00.000</td>\n",
       "      <td>2020-07-25T00:00:00.000</td>\n",
       "      <td>United States</td>\n",
       "      <td>All</td>\n",
       "      <td>5-14 years</td>\n",
       "      <td>19.0</td>\n",
       "      <td>2498.0</td>\n",
       "      <td>84.0</td>\n",
       "      <td>6.0</td>\n",
       "      <td>50.0</td>\n",
       "      <td>147.0</td>\n",
       "      <td>NaN</td>\n",
       "    </tr>\n",
       "    <tr>\n",
       "      <th>3</th>\n",
       "      <td>2020-07-29T00:00:00.000</td>\n",
       "      <td>2020-02-01T00:00:00.000</td>\n",
       "      <td>2020-07-25T00:00:00.000</td>\n",
       "      <td>United States</td>\n",
       "      <td>All</td>\n",
       "      <td>15-24 years</td>\n",
       "      <td>202.0</td>\n",
       "      <td>15609.0</td>\n",
       "      <td>312.0</td>\n",
       "      <td>65.0</td>\n",
       "      <td>52.0</td>\n",
       "      <td>497.0</td>\n",
       "      <td>NaN</td>\n",
       "    </tr>\n",
       "    <tr>\n",
       "      <th>4</th>\n",
       "      <td>2020-07-29T00:00:00.000</td>\n",
       "      <td>2020-02-01T00:00:00.000</td>\n",
       "      <td>2020-07-25T00:00:00.000</td>\n",
       "      <td>United States</td>\n",
       "      <td>All</td>\n",
       "      <td>25-34 years</td>\n",
       "      <td>992.0</td>\n",
       "      <td>32454.0</td>\n",
       "      <td>1173.0</td>\n",
       "      <td>438.0</td>\n",
       "      <td>150.0</td>\n",
       "      <td>1863.0</td>\n",
       "      <td>NaN</td>\n",
       "    </tr>\n",
       "    <tr>\n",
       "      <th>...</th>\n",
       "      <td>...</td>\n",
       "      <td>...</td>\n",
       "      <td>...</td>\n",
       "      <td>...</td>\n",
       "      <td>...</td>\n",
       "      <td>...</td>\n",
       "      <td>...</td>\n",
       "      <td>...</td>\n",
       "      <td>...</td>\n",
       "      <td>...</td>\n",
       "      <td>...</td>\n",
       "      <td>...</td>\n",
       "      <td>...</td>\n",
       "    </tr>\n",
       "    <tr>\n",
       "      <th>995</th>\n",
       "      <td>2020-07-29T00:00:00.000</td>\n",
       "      <td>2020-02-01T00:00:00.000</td>\n",
       "      <td>2020-07-25T00:00:00.000</td>\n",
       "      <td>Ohio</td>\n",
       "      <td>Female</td>\n",
       "      <td>75-84 years</td>\n",
       "      <td>401.0</td>\n",
       "      <td>7347.0</td>\n",
       "      <td>533.0</td>\n",
       "      <td>154.0</td>\n",
       "      <td>31.0</td>\n",
       "      <td>810.0</td>\n",
       "      <td>NaN</td>\n",
       "    </tr>\n",
       "    <tr>\n",
       "      <th>996</th>\n",
       "      <td>2020-07-29T00:00:00.000</td>\n",
       "      <td>2020-02-01T00:00:00.000</td>\n",
       "      <td>2020-07-25T00:00:00.000</td>\n",
       "      <td>Ohio</td>\n",
       "      <td>Female</td>\n",
       "      <td>85 years and over</td>\n",
       "      <td>615.0</td>\n",
       "      <td>11393.0</td>\n",
       "      <td>699.0</td>\n",
       "      <td>244.0</td>\n",
       "      <td>36.0</td>\n",
       "      <td>1106.0</td>\n",
       "      <td>NaN</td>\n",
       "    </tr>\n",
       "    <tr>\n",
       "      <th>997</th>\n",
       "      <td>2020-07-29T00:00:00.000</td>\n",
       "      <td>2020-02-01T00:00:00.000</td>\n",
       "      <td>2020-07-25T00:00:00.000</td>\n",
       "      <td>Ohio</td>\n",
       "      <td>Female</td>\n",
       "      <td>All ages</td>\n",
       "      <td>1358.0</td>\n",
       "      <td>29821.0</td>\n",
       "      <td>1875.0</td>\n",
       "      <td>546.0</td>\n",
       "      <td>139.0</td>\n",
       "      <td>2825.0</td>\n",
       "      <td>NaN</td>\n",
       "    </tr>\n",
       "    <tr>\n",
       "      <th>998</th>\n",
       "      <td>2020-07-29T00:00:00.000</td>\n",
       "      <td>2020-02-01T00:00:00.000</td>\n",
       "      <td>2020-07-25T00:00:00.000</td>\n",
       "      <td>Ohio</td>\n",
       "      <td>Unknown</td>\n",
       "      <td>All ages</td>\n",
       "      <td>0.0</td>\n",
       "      <td>NaN</td>\n",
       "      <td>0.0</td>\n",
       "      <td>0.0</td>\n",
       "      <td>0.0</td>\n",
       "      <td>0.0</td>\n",
       "      <td>One or more data cells have counts between 1–9...</td>\n",
       "    </tr>\n",
       "    <tr>\n",
       "      <th>999</th>\n",
       "      <td>2020-07-29T00:00:00.000</td>\n",
       "      <td>2020-02-01T00:00:00.000</td>\n",
       "      <td>2020-07-25T00:00:00.000</td>\n",
       "      <td>Ohio Total</td>\n",
       "      <td>All</td>\n",
       "      <td>All Ages</td>\n",
       "      <td>2837.0</td>\n",
       "      <td>61124.0</td>\n",
       "      <td>4026.0</td>\n",
       "      <td>1188.0</td>\n",
       "      <td>261.0</td>\n",
       "      <td>5935.0</td>\n",
       "      <td>NaN</td>\n",
       "    </tr>\n",
       "  </tbody>\n",
       "</table>\n",
       "<p>1000 rows × 13 columns</p>\n",
       "</div>"
      ],
      "text/plain": [
       "                  data_as_of               start_week  \\\n",
       "0    2020-07-29T00:00:00.000  2020-02-01T00:00:00.000   \n",
       "1    2020-07-29T00:00:00.000  2020-02-01T00:00:00.000   \n",
       "2    2020-07-29T00:00:00.000  2020-02-01T00:00:00.000   \n",
       "3    2020-07-29T00:00:00.000  2020-02-01T00:00:00.000   \n",
       "4    2020-07-29T00:00:00.000  2020-02-01T00:00:00.000   \n",
       "..                       ...                      ...   \n",
       "995  2020-07-29T00:00:00.000  2020-02-01T00:00:00.000   \n",
       "996  2020-07-29T00:00:00.000  2020-02-01T00:00:00.000   \n",
       "997  2020-07-29T00:00:00.000  2020-02-01T00:00:00.000   \n",
       "998  2020-07-29T00:00:00.000  2020-02-01T00:00:00.000   \n",
       "999  2020-07-29T00:00:00.000  2020-02-01T00:00:00.000   \n",
       "\n",
       "                    end_week          state      sex          age_group  \\\n",
       "0    2020-07-25T00:00:00.000  United States      All       Under 1 year   \n",
       "1    2020-07-25T00:00:00.000  United States      All          1-4 years   \n",
       "2    2020-07-25T00:00:00.000  United States      All         5-14 years   \n",
       "3    2020-07-25T00:00:00.000  United States      All        15-24 years   \n",
       "4    2020-07-25T00:00:00.000  United States      All        25-34 years   \n",
       "..                       ...            ...      ...                ...   \n",
       "995  2020-07-25T00:00:00.000           Ohio   Female        75-84 years   \n",
       "996  2020-07-25T00:00:00.000           Ohio   Female  85 years and over   \n",
       "997  2020-07-25T00:00:00.000           Ohio   Female           All ages   \n",
       "998  2020-07-25T00:00:00.000           Ohio  Unknown           All ages   \n",
       "999  2020-07-25T00:00:00.000     Ohio Total      All           All Ages   \n",
       "\n",
       "     covid_19_deaths  total_deaths  pneumonia_deaths  \\\n",
       "0               14.0        8459.0              77.0   \n",
       "1                9.0        1620.0              54.0   \n",
       "2               19.0        2498.0              84.0   \n",
       "3              202.0       15609.0             312.0   \n",
       "4              992.0       32454.0            1173.0   \n",
       "..               ...           ...               ...   \n",
       "995            401.0        7347.0             533.0   \n",
       "996            615.0       11393.0             699.0   \n",
       "997           1358.0       29821.0            1875.0   \n",
       "998              0.0           NaN               0.0   \n",
       "999           2837.0       61124.0            4026.0   \n",
       "\n",
       "     pneumonia_and_covid_19_deaths  influenza_deaths  \\\n",
       "0                              2.0              14.0   \n",
       "1                              2.0              41.0   \n",
       "2                              6.0              50.0   \n",
       "3                             65.0              52.0   \n",
       "4                            438.0             150.0   \n",
       "..                             ...               ...   \n",
       "995                          154.0              31.0   \n",
       "996                          244.0              36.0   \n",
       "997                          546.0             139.0   \n",
       "998                            0.0               0.0   \n",
       "999                         1188.0             261.0   \n",
       "\n",
       "     pneumonia_influenza_or_covid  \\\n",
       "0                           103.0   \n",
       "1                           102.0   \n",
       "2                           147.0   \n",
       "3                           497.0   \n",
       "4                          1863.0   \n",
       "..                            ...   \n",
       "995                         810.0   \n",
       "996                        1106.0   \n",
       "997                        2825.0   \n",
       "998                           0.0   \n",
       "999                        5935.0   \n",
       "\n",
       "                                              footnote  \n",
       "0                                                  NaN  \n",
       "1                                                  NaN  \n",
       "2                                                  NaN  \n",
       "3                                                  NaN  \n",
       "4                                                  NaN  \n",
       "..                                                 ...  \n",
       "995                                                NaN  \n",
       "996                                                NaN  \n",
       "997                                                NaN  \n",
       "998  One or more data cells have counts between 1–9...  \n",
       "999                                                NaN  \n",
       "\n",
       "[1000 rows x 13 columns]"
      ]
     },
     "execution_count": 60,
     "metadata": {},
     "output_type": "execute_result"
    }
   ],
   "source": [
    "Corona"
   ]
  },
  {
   "cell_type": "code",
   "execution_count": 61,
   "metadata": {},
   "outputs": [],
   "source": [
    "state = \"Massachusetts\""
   ]
  },
  {
   "cell_type": "code",
   "execution_count": 62,
   "metadata": {},
   "outputs": [],
   "source": [
    "MA = Corona[Corona[\"state\"]== state]"
   ]
  },
  {
   "cell_type": "code",
   "execution_count": 63,
   "metadata": {},
   "outputs": [
    {
     "data": {
      "text/html": [
       "<div>\n",
       "<style scoped>\n",
       "    .dataframe tbody tr th:only-of-type {\n",
       "        vertical-align: middle;\n",
       "    }\n",
       "\n",
       "    .dataframe tbody tr th {\n",
       "        vertical-align: top;\n",
       "    }\n",
       "\n",
       "    .dataframe thead th {\n",
       "        text-align: right;\n",
       "    }\n",
       "</style>\n",
       "<table border=\"1\" class=\"dataframe\">\n",
       "  <thead>\n",
       "    <tr style=\"text-align: right;\">\n",
       "      <th></th>\n",
       "      <th>data_as_of</th>\n",
       "      <th>start_week</th>\n",
       "      <th>end_week</th>\n",
       "      <th>state</th>\n",
       "      <th>sex</th>\n",
       "      <th>age_group</th>\n",
       "      <th>covid_19_deaths</th>\n",
       "      <th>total_deaths</th>\n",
       "      <th>pneumonia_deaths</th>\n",
       "      <th>pneumonia_and_covid_19_deaths</th>\n",
       "      <th>influenza_deaths</th>\n",
       "      <th>pneumonia_influenza_or_covid</th>\n",
       "      <th>footnote</th>\n",
       "    </tr>\n",
       "  </thead>\n",
       "  <tbody>\n",
       "    <tr>\n",
       "      <th>584</th>\n",
       "      <td>2020-07-29T00:00:00.000</td>\n",
       "      <td>2020-02-01T00:00:00.000</td>\n",
       "      <td>2020-07-25T00:00:00.000</td>\n",
       "      <td>Massachusetts</td>\n",
       "      <td>Male</td>\n",
       "      <td>Under 1 year</td>\n",
       "      <td>0.0</td>\n",
       "      <td>70.0</td>\n",
       "      <td>NaN</td>\n",
       "      <td>0.0</td>\n",
       "      <td>0.0</td>\n",
       "      <td>NaN</td>\n",
       "      <td>One or more data cells have counts between 1–9...</td>\n",
       "    </tr>\n",
       "    <tr>\n",
       "      <th>585</th>\n",
       "      <td>2020-07-29T00:00:00.000</td>\n",
       "      <td>2020-02-01T00:00:00.000</td>\n",
       "      <td>2020-07-25T00:00:00.000</td>\n",
       "      <td>Massachusetts</td>\n",
       "      <td>Male</td>\n",
       "      <td>1-4 years</td>\n",
       "      <td>0.0</td>\n",
       "      <td>NaN</td>\n",
       "      <td>0.0</td>\n",
       "      <td>0.0</td>\n",
       "      <td>0.0</td>\n",
       "      <td>0.0</td>\n",
       "      <td>One or more data cells have counts between 1–9...</td>\n",
       "    </tr>\n",
       "    <tr>\n",
       "      <th>586</th>\n",
       "      <td>2020-07-29T00:00:00.000</td>\n",
       "      <td>2020-02-01T00:00:00.000</td>\n",
       "      <td>2020-07-25T00:00:00.000</td>\n",
       "      <td>Massachusetts</td>\n",
       "      <td>Male</td>\n",
       "      <td>5-14 years</td>\n",
       "      <td>0.0</td>\n",
       "      <td>14.0</td>\n",
       "      <td>0.0</td>\n",
       "      <td>0.0</td>\n",
       "      <td>0.0</td>\n",
       "      <td>0.0</td>\n",
       "      <td>NaN</td>\n",
       "    </tr>\n",
       "    <tr>\n",
       "      <th>587</th>\n",
       "      <td>2020-07-29T00:00:00.000</td>\n",
       "      <td>2020-02-01T00:00:00.000</td>\n",
       "      <td>2020-07-25T00:00:00.000</td>\n",
       "      <td>Massachusetts</td>\n",
       "      <td>Male</td>\n",
       "      <td>15-24 years</td>\n",
       "      <td>NaN</td>\n",
       "      <td>143.0</td>\n",
       "      <td>NaN</td>\n",
       "      <td>NaN</td>\n",
       "      <td>0.0</td>\n",
       "      <td>NaN</td>\n",
       "      <td>One or more data cells have counts between 1–9...</td>\n",
       "    </tr>\n",
       "    <tr>\n",
       "      <th>588</th>\n",
       "      <td>2020-07-29T00:00:00.000</td>\n",
       "      <td>2020-02-01T00:00:00.000</td>\n",
       "      <td>2020-07-25T00:00:00.000</td>\n",
       "      <td>Massachusetts</td>\n",
       "      <td>Male</td>\n",
       "      <td>25-34 years</td>\n",
       "      <td>10.0</td>\n",
       "      <td>408.0</td>\n",
       "      <td>11.0</td>\n",
       "      <td>NaN</td>\n",
       "      <td>NaN</td>\n",
       "      <td>17.0</td>\n",
       "      <td>One or more data cells have counts between 1–9...</td>\n",
       "    </tr>\n",
       "    <tr>\n",
       "      <th>589</th>\n",
       "      <td>2020-07-29T00:00:00.000</td>\n",
       "      <td>2020-02-01T00:00:00.000</td>\n",
       "      <td>2020-07-25T00:00:00.000</td>\n",
       "      <td>Massachusetts</td>\n",
       "      <td>Male</td>\n",
       "      <td>35-44 years</td>\n",
       "      <td>30.0</td>\n",
       "      <td>608.0</td>\n",
       "      <td>25.0</td>\n",
       "      <td>NaN</td>\n",
       "      <td>NaN</td>\n",
       "      <td>51.0</td>\n",
       "      <td>One or more data cells have counts between 1–9...</td>\n",
       "    </tr>\n",
       "    <tr>\n",
       "      <th>590</th>\n",
       "      <td>2020-07-29T00:00:00.000</td>\n",
       "      <td>2020-02-01T00:00:00.000</td>\n",
       "      <td>2020-07-25T00:00:00.000</td>\n",
       "      <td>Massachusetts</td>\n",
       "      <td>Male</td>\n",
       "      <td>45-54 years</td>\n",
       "      <td>93.0</td>\n",
       "      <td>1032.0</td>\n",
       "      <td>62.0</td>\n",
       "      <td>37.0</td>\n",
       "      <td>NaN</td>\n",
       "      <td>124.0</td>\n",
       "      <td>One or more data cells have counts between 1–9...</td>\n",
       "    </tr>\n",
       "    <tr>\n",
       "      <th>591</th>\n",
       "      <td>2020-07-29T00:00:00.000</td>\n",
       "      <td>2020-02-01T00:00:00.000</td>\n",
       "      <td>2020-07-25T00:00:00.000</td>\n",
       "      <td>Massachusetts</td>\n",
       "      <td>Male</td>\n",
       "      <td>55-64 years</td>\n",
       "      <td>330.0</td>\n",
       "      <td>2437.0</td>\n",
       "      <td>268.0</td>\n",
       "      <td>153.0</td>\n",
       "      <td>17.0</td>\n",
       "      <td>461.0</td>\n",
       "      <td>NaN</td>\n",
       "    </tr>\n",
       "    <tr>\n",
       "      <th>592</th>\n",
       "      <td>2020-07-29T00:00:00.000</td>\n",
       "      <td>2020-02-01T00:00:00.000</td>\n",
       "      <td>2020-07-25T00:00:00.000</td>\n",
       "      <td>Massachusetts</td>\n",
       "      <td>Male</td>\n",
       "      <td>65-74 years</td>\n",
       "      <td>716.0</td>\n",
       "      <td>3684.0</td>\n",
       "      <td>532.0</td>\n",
       "      <td>285.0</td>\n",
       "      <td>18.0</td>\n",
       "      <td>981.0</td>\n",
       "      <td>NaN</td>\n",
       "    </tr>\n",
       "    <tr>\n",
       "      <th>593</th>\n",
       "      <td>2020-07-29T00:00:00.000</td>\n",
       "      <td>2020-02-01T00:00:00.000</td>\n",
       "      <td>2020-07-25T00:00:00.000</td>\n",
       "      <td>Massachusetts</td>\n",
       "      <td>Male</td>\n",
       "      <td>75-84 years</td>\n",
       "      <td>1118.0</td>\n",
       "      <td>4610.0</td>\n",
       "      <td>776.0</td>\n",
       "      <td>446.0</td>\n",
       "      <td>25.0</td>\n",
       "      <td>1473.0</td>\n",
       "      <td>NaN</td>\n",
       "    </tr>\n",
       "    <tr>\n",
       "      <th>594</th>\n",
       "      <td>2020-07-29T00:00:00.000</td>\n",
       "      <td>2020-02-01T00:00:00.000</td>\n",
       "      <td>2020-07-25T00:00:00.000</td>\n",
       "      <td>Massachusetts</td>\n",
       "      <td>Male</td>\n",
       "      <td>85 years and over</td>\n",
       "      <td>1352.0</td>\n",
       "      <td>5283.0</td>\n",
       "      <td>885.0</td>\n",
       "      <td>508.0</td>\n",
       "      <td>20.0</td>\n",
       "      <td>1747.0</td>\n",
       "      <td>NaN</td>\n",
       "    </tr>\n",
       "    <tr>\n",
       "      <th>595</th>\n",
       "      <td>2020-07-29T00:00:00.000</td>\n",
       "      <td>2020-02-01T00:00:00.000</td>\n",
       "      <td>2020-07-25T00:00:00.000</td>\n",
       "      <td>Massachusetts</td>\n",
       "      <td>Male</td>\n",
       "      <td>All ages</td>\n",
       "      <td>3653.0</td>\n",
       "      <td>18298.0</td>\n",
       "      <td>2561.0</td>\n",
       "      <td>1443.0</td>\n",
       "      <td>91.0</td>\n",
       "      <td>4859.0</td>\n",
       "      <td>NaN</td>\n",
       "    </tr>\n",
       "    <tr>\n",
       "      <th>596</th>\n",
       "      <td>2020-07-29T00:00:00.000</td>\n",
       "      <td>2020-02-01T00:00:00.000</td>\n",
       "      <td>2020-07-25T00:00:00.000</td>\n",
       "      <td>Massachusetts</td>\n",
       "      <td>Female</td>\n",
       "      <td>Under 1 year</td>\n",
       "      <td>0.0</td>\n",
       "      <td>50.0</td>\n",
       "      <td>0.0</td>\n",
       "      <td>0.0</td>\n",
       "      <td>0.0</td>\n",
       "      <td>0.0</td>\n",
       "      <td>NaN</td>\n",
       "    </tr>\n",
       "    <tr>\n",
       "      <th>597</th>\n",
       "      <td>2020-07-29T00:00:00.000</td>\n",
       "      <td>2020-02-01T00:00:00.000</td>\n",
       "      <td>2020-07-25T00:00:00.000</td>\n",
       "      <td>Massachusetts</td>\n",
       "      <td>Female</td>\n",
       "      <td>1-4 years</td>\n",
       "      <td>0.0</td>\n",
       "      <td>NaN</td>\n",
       "      <td>0.0</td>\n",
       "      <td>0.0</td>\n",
       "      <td>0.0</td>\n",
       "      <td>0.0</td>\n",
       "      <td>One or more data cells have counts between 1–9...</td>\n",
       "    </tr>\n",
       "    <tr>\n",
       "      <th>598</th>\n",
       "      <td>2020-07-29T00:00:00.000</td>\n",
       "      <td>2020-02-01T00:00:00.000</td>\n",
       "      <td>2020-07-25T00:00:00.000</td>\n",
       "      <td>Massachusetts</td>\n",
       "      <td>Female</td>\n",
       "      <td>5-14 years</td>\n",
       "      <td>0.0</td>\n",
       "      <td>NaN</td>\n",
       "      <td>NaN</td>\n",
       "      <td>0.0</td>\n",
       "      <td>0.0</td>\n",
       "      <td>NaN</td>\n",
       "      <td>One or more data cells have counts between 1–9...</td>\n",
       "    </tr>\n",
       "    <tr>\n",
       "      <th>599</th>\n",
       "      <td>2020-07-29T00:00:00.000</td>\n",
       "      <td>2020-02-01T00:00:00.000</td>\n",
       "      <td>2020-07-25T00:00:00.000</td>\n",
       "      <td>Massachusetts</td>\n",
       "      <td>Female</td>\n",
       "      <td>15-24 years</td>\n",
       "      <td>NaN</td>\n",
       "      <td>65.0</td>\n",
       "      <td>NaN</td>\n",
       "      <td>NaN</td>\n",
       "      <td>NaN</td>\n",
       "      <td>NaN</td>\n",
       "      <td>One or more data cells have counts between 1–9...</td>\n",
       "    </tr>\n",
       "    <tr>\n",
       "      <th>600</th>\n",
       "      <td>2020-07-29T00:00:00.000</td>\n",
       "      <td>2020-02-01T00:00:00.000</td>\n",
       "      <td>2020-07-25T00:00:00.000</td>\n",
       "      <td>Massachusetts</td>\n",
       "      <td>Female</td>\n",
       "      <td>25-34 years</td>\n",
       "      <td>NaN</td>\n",
       "      <td>195.0</td>\n",
       "      <td>NaN</td>\n",
       "      <td>NaN</td>\n",
       "      <td>NaN</td>\n",
       "      <td>13.0</td>\n",
       "      <td>One or more data cells have counts between 1–9...</td>\n",
       "    </tr>\n",
       "    <tr>\n",
       "      <th>601</th>\n",
       "      <td>2020-07-29T00:00:00.000</td>\n",
       "      <td>2020-02-01T00:00:00.000</td>\n",
       "      <td>2020-07-25T00:00:00.000</td>\n",
       "      <td>Massachusetts</td>\n",
       "      <td>Female</td>\n",
       "      <td>35-44 years</td>\n",
       "      <td>13.0</td>\n",
       "      <td>282.0</td>\n",
       "      <td>10.0</td>\n",
       "      <td>NaN</td>\n",
       "      <td>0.0</td>\n",
       "      <td>18.0</td>\n",
       "      <td>One or more data cells have counts between 1–9...</td>\n",
       "    </tr>\n",
       "    <tr>\n",
       "      <th>602</th>\n",
       "      <td>2020-07-29T00:00:00.000</td>\n",
       "      <td>2020-02-01T00:00:00.000</td>\n",
       "      <td>2020-07-25T00:00:00.000</td>\n",
       "      <td>Massachusetts</td>\n",
       "      <td>Female</td>\n",
       "      <td>45-54 years</td>\n",
       "      <td>64.0</td>\n",
       "      <td>548.0</td>\n",
       "      <td>35.0</td>\n",
       "      <td>18.0</td>\n",
       "      <td>NaN</td>\n",
       "      <td>83.0</td>\n",
       "      <td>One or more data cells have counts between 1–9...</td>\n",
       "    </tr>\n",
       "    <tr>\n",
       "      <th>603</th>\n",
       "      <td>2020-07-29T00:00:00.000</td>\n",
       "      <td>2020-02-01T00:00:00.000</td>\n",
       "      <td>2020-07-25T00:00:00.000</td>\n",
       "      <td>Massachusetts</td>\n",
       "      <td>Female</td>\n",
       "      <td>55-64 years</td>\n",
       "      <td>193.0</td>\n",
       "      <td>1399.0</td>\n",
       "      <td>151.0</td>\n",
       "      <td>89.0</td>\n",
       "      <td>NaN</td>\n",
       "      <td>261.0</td>\n",
       "      <td>One or more data cells have counts between 1–9...</td>\n",
       "    </tr>\n",
       "    <tr>\n",
       "      <th>604</th>\n",
       "      <td>2020-07-29T00:00:00.000</td>\n",
       "      <td>2020-02-01T00:00:00.000</td>\n",
       "      <td>2020-07-25T00:00:00.000</td>\n",
       "      <td>Massachusetts</td>\n",
       "      <td>Female</td>\n",
       "      <td>65-74 years</td>\n",
       "      <td>479.0</td>\n",
       "      <td>2638.0</td>\n",
       "      <td>343.0</td>\n",
       "      <td>202.0</td>\n",
       "      <td>10.0</td>\n",
       "      <td>630.0</td>\n",
       "      <td>NaN</td>\n",
       "    </tr>\n",
       "    <tr>\n",
       "      <th>605</th>\n",
       "      <td>2020-07-29T00:00:00.000</td>\n",
       "      <td>2020-02-01T00:00:00.000</td>\n",
       "      <td>2020-07-25T00:00:00.000</td>\n",
       "      <td>Massachusetts</td>\n",
       "      <td>Female</td>\n",
       "      <td>75-84 years</td>\n",
       "      <td>1022.0</td>\n",
       "      <td>4415.0</td>\n",
       "      <td>644.0</td>\n",
       "      <td>374.0</td>\n",
       "      <td>19.0</td>\n",
       "      <td>1311.0</td>\n",
       "      <td>NaN</td>\n",
       "    </tr>\n",
       "    <tr>\n",
       "      <th>606</th>\n",
       "      <td>2020-07-29T00:00:00.000</td>\n",
       "      <td>2020-02-01T00:00:00.000</td>\n",
       "      <td>2020-07-25T00:00:00.000</td>\n",
       "      <td>Massachusetts</td>\n",
       "      <td>Female</td>\n",
       "      <td>85 years and over</td>\n",
       "      <td>2363.0</td>\n",
       "      <td>9044.0</td>\n",
       "      <td>1193.0</td>\n",
       "      <td>675.0</td>\n",
       "      <td>30.0</td>\n",
       "      <td>2909.0</td>\n",
       "      <td>NaN</td>\n",
       "    </tr>\n",
       "    <tr>\n",
       "      <th>607</th>\n",
       "      <td>2020-07-29T00:00:00.000</td>\n",
       "      <td>2020-02-01T00:00:00.000</td>\n",
       "      <td>2020-07-25T00:00:00.000</td>\n",
       "      <td>Massachusetts</td>\n",
       "      <td>Female</td>\n",
       "      <td>All ages</td>\n",
       "      <td>4142.0</td>\n",
       "      <td>18650.0</td>\n",
       "      <td>2386.0</td>\n",
       "      <td>1367.0</td>\n",
       "      <td>72.0</td>\n",
       "      <td>5228.0</td>\n",
       "      <td>NaN</td>\n",
       "    </tr>\n",
       "    <tr>\n",
       "      <th>608</th>\n",
       "      <td>2020-07-29T00:00:00.000</td>\n",
       "      <td>2020-02-01T00:00:00.000</td>\n",
       "      <td>2020-07-25T00:00:00.000</td>\n",
       "      <td>Massachusetts</td>\n",
       "      <td>Unknown</td>\n",
       "      <td>All ages</td>\n",
       "      <td>0.0</td>\n",
       "      <td>0.0</td>\n",
       "      <td>0.0</td>\n",
       "      <td>0.0</td>\n",
       "      <td>0.0</td>\n",
       "      <td>0.0</td>\n",
       "      <td>NaN</td>\n",
       "    </tr>\n",
       "  </tbody>\n",
       "</table>\n",
       "</div>"
      ],
      "text/plain": [
       "                  data_as_of               start_week  \\\n",
       "584  2020-07-29T00:00:00.000  2020-02-01T00:00:00.000   \n",
       "585  2020-07-29T00:00:00.000  2020-02-01T00:00:00.000   \n",
       "586  2020-07-29T00:00:00.000  2020-02-01T00:00:00.000   \n",
       "587  2020-07-29T00:00:00.000  2020-02-01T00:00:00.000   \n",
       "588  2020-07-29T00:00:00.000  2020-02-01T00:00:00.000   \n",
       "589  2020-07-29T00:00:00.000  2020-02-01T00:00:00.000   \n",
       "590  2020-07-29T00:00:00.000  2020-02-01T00:00:00.000   \n",
       "591  2020-07-29T00:00:00.000  2020-02-01T00:00:00.000   \n",
       "592  2020-07-29T00:00:00.000  2020-02-01T00:00:00.000   \n",
       "593  2020-07-29T00:00:00.000  2020-02-01T00:00:00.000   \n",
       "594  2020-07-29T00:00:00.000  2020-02-01T00:00:00.000   \n",
       "595  2020-07-29T00:00:00.000  2020-02-01T00:00:00.000   \n",
       "596  2020-07-29T00:00:00.000  2020-02-01T00:00:00.000   \n",
       "597  2020-07-29T00:00:00.000  2020-02-01T00:00:00.000   \n",
       "598  2020-07-29T00:00:00.000  2020-02-01T00:00:00.000   \n",
       "599  2020-07-29T00:00:00.000  2020-02-01T00:00:00.000   \n",
       "600  2020-07-29T00:00:00.000  2020-02-01T00:00:00.000   \n",
       "601  2020-07-29T00:00:00.000  2020-02-01T00:00:00.000   \n",
       "602  2020-07-29T00:00:00.000  2020-02-01T00:00:00.000   \n",
       "603  2020-07-29T00:00:00.000  2020-02-01T00:00:00.000   \n",
       "604  2020-07-29T00:00:00.000  2020-02-01T00:00:00.000   \n",
       "605  2020-07-29T00:00:00.000  2020-02-01T00:00:00.000   \n",
       "606  2020-07-29T00:00:00.000  2020-02-01T00:00:00.000   \n",
       "607  2020-07-29T00:00:00.000  2020-02-01T00:00:00.000   \n",
       "608  2020-07-29T00:00:00.000  2020-02-01T00:00:00.000   \n",
       "\n",
       "                    end_week          state      sex          age_group  \\\n",
       "584  2020-07-25T00:00:00.000  Massachusetts     Male       Under 1 year   \n",
       "585  2020-07-25T00:00:00.000  Massachusetts     Male          1-4 years   \n",
       "586  2020-07-25T00:00:00.000  Massachusetts     Male         5-14 years   \n",
       "587  2020-07-25T00:00:00.000  Massachusetts     Male        15-24 years   \n",
       "588  2020-07-25T00:00:00.000  Massachusetts     Male        25-34 years   \n",
       "589  2020-07-25T00:00:00.000  Massachusetts     Male        35-44 years   \n",
       "590  2020-07-25T00:00:00.000  Massachusetts     Male        45-54 years   \n",
       "591  2020-07-25T00:00:00.000  Massachusetts     Male        55-64 years   \n",
       "592  2020-07-25T00:00:00.000  Massachusetts     Male        65-74 years   \n",
       "593  2020-07-25T00:00:00.000  Massachusetts     Male        75-84 years   \n",
       "594  2020-07-25T00:00:00.000  Massachusetts     Male  85 years and over   \n",
       "595  2020-07-25T00:00:00.000  Massachusetts     Male           All ages   \n",
       "596  2020-07-25T00:00:00.000  Massachusetts   Female       Under 1 year   \n",
       "597  2020-07-25T00:00:00.000  Massachusetts   Female          1-4 years   \n",
       "598  2020-07-25T00:00:00.000  Massachusetts   Female         5-14 years   \n",
       "599  2020-07-25T00:00:00.000  Massachusetts   Female        15-24 years   \n",
       "600  2020-07-25T00:00:00.000  Massachusetts   Female        25-34 years   \n",
       "601  2020-07-25T00:00:00.000  Massachusetts   Female        35-44 years   \n",
       "602  2020-07-25T00:00:00.000  Massachusetts   Female        45-54 years   \n",
       "603  2020-07-25T00:00:00.000  Massachusetts   Female        55-64 years   \n",
       "604  2020-07-25T00:00:00.000  Massachusetts   Female        65-74 years   \n",
       "605  2020-07-25T00:00:00.000  Massachusetts   Female        75-84 years   \n",
       "606  2020-07-25T00:00:00.000  Massachusetts   Female  85 years and over   \n",
       "607  2020-07-25T00:00:00.000  Massachusetts   Female           All ages   \n",
       "608  2020-07-25T00:00:00.000  Massachusetts  Unknown           All ages   \n",
       "\n",
       "     covid_19_deaths  total_deaths  pneumonia_deaths  \\\n",
       "584              0.0          70.0               NaN   \n",
       "585              0.0           NaN               0.0   \n",
       "586              0.0          14.0               0.0   \n",
       "587              NaN         143.0               NaN   \n",
       "588             10.0         408.0              11.0   \n",
       "589             30.0         608.0              25.0   \n",
       "590             93.0        1032.0              62.0   \n",
       "591            330.0        2437.0             268.0   \n",
       "592            716.0        3684.0             532.0   \n",
       "593           1118.0        4610.0             776.0   \n",
       "594           1352.0        5283.0             885.0   \n",
       "595           3653.0       18298.0            2561.0   \n",
       "596              0.0          50.0               0.0   \n",
       "597              0.0           NaN               0.0   \n",
       "598              0.0           NaN               NaN   \n",
       "599              NaN          65.0               NaN   \n",
       "600              NaN         195.0               NaN   \n",
       "601             13.0         282.0              10.0   \n",
       "602             64.0         548.0              35.0   \n",
       "603            193.0        1399.0             151.0   \n",
       "604            479.0        2638.0             343.0   \n",
       "605           1022.0        4415.0             644.0   \n",
       "606           2363.0        9044.0            1193.0   \n",
       "607           4142.0       18650.0            2386.0   \n",
       "608              0.0           0.0               0.0   \n",
       "\n",
       "     pneumonia_and_covid_19_deaths  influenza_deaths  \\\n",
       "584                            0.0               0.0   \n",
       "585                            0.0               0.0   \n",
       "586                            0.0               0.0   \n",
       "587                            NaN               0.0   \n",
       "588                            NaN               NaN   \n",
       "589                            NaN               NaN   \n",
       "590                           37.0               NaN   \n",
       "591                          153.0              17.0   \n",
       "592                          285.0              18.0   \n",
       "593                          446.0              25.0   \n",
       "594                          508.0              20.0   \n",
       "595                         1443.0              91.0   \n",
       "596                            0.0               0.0   \n",
       "597                            0.0               0.0   \n",
       "598                            0.0               0.0   \n",
       "599                            NaN               NaN   \n",
       "600                            NaN               NaN   \n",
       "601                            NaN               0.0   \n",
       "602                           18.0               NaN   \n",
       "603                           89.0               NaN   \n",
       "604                          202.0              10.0   \n",
       "605                          374.0              19.0   \n",
       "606                          675.0              30.0   \n",
       "607                         1367.0              72.0   \n",
       "608                            0.0               0.0   \n",
       "\n",
       "     pneumonia_influenza_or_covid  \\\n",
       "584                           NaN   \n",
       "585                           0.0   \n",
       "586                           0.0   \n",
       "587                           NaN   \n",
       "588                          17.0   \n",
       "589                          51.0   \n",
       "590                         124.0   \n",
       "591                         461.0   \n",
       "592                         981.0   \n",
       "593                        1473.0   \n",
       "594                        1747.0   \n",
       "595                        4859.0   \n",
       "596                           0.0   \n",
       "597                           0.0   \n",
       "598                           NaN   \n",
       "599                           NaN   \n",
       "600                          13.0   \n",
       "601                          18.0   \n",
       "602                          83.0   \n",
       "603                         261.0   \n",
       "604                         630.0   \n",
       "605                        1311.0   \n",
       "606                        2909.0   \n",
       "607                        5228.0   \n",
       "608                           0.0   \n",
       "\n",
       "                                              footnote  \n",
       "584  One or more data cells have counts between 1–9...  \n",
       "585  One or more data cells have counts between 1–9...  \n",
       "586                                                NaN  \n",
       "587  One or more data cells have counts between 1–9...  \n",
       "588  One or more data cells have counts between 1–9...  \n",
       "589  One or more data cells have counts between 1–9...  \n",
       "590  One or more data cells have counts between 1–9...  \n",
       "591                                                NaN  \n",
       "592                                                NaN  \n",
       "593                                                NaN  \n",
       "594                                                NaN  \n",
       "595                                                NaN  \n",
       "596                                                NaN  \n",
       "597  One or more data cells have counts between 1–9...  \n",
       "598  One or more data cells have counts between 1–9...  \n",
       "599  One or more data cells have counts between 1–9...  \n",
       "600  One or more data cells have counts between 1–9...  \n",
       "601  One or more data cells have counts between 1–9...  \n",
       "602  One or more data cells have counts between 1–9...  \n",
       "603  One or more data cells have counts between 1–9...  \n",
       "604                                                NaN  \n",
       "605                                                NaN  \n",
       "606                                                NaN  \n",
       "607                                                NaN  \n",
       "608                                                NaN  "
      ]
     },
     "execution_count": 63,
     "metadata": {},
     "output_type": "execute_result"
    }
   ],
   "source": [
    "MA"
   ]
  },
  {
   "cell_type": "code",
   "execution_count": 64,
   "metadata": {},
   "outputs": [],
   "source": [
    "male = MA[MA[\"sex\"] == \"Male\"]"
   ]
  },
  {
   "cell_type": "code",
   "execution_count": 65,
   "metadata": {},
   "outputs": [],
   "source": [
    "age = male[male[\"age_group\"] == \"25-34 years\"]"
   ]
  },
  {
   "cell_type": "code",
   "execution_count": 66,
   "metadata": {},
   "outputs": [],
   "source": [
    "female = MA[MA[\"sex\"] == \"Female\"]"
   ]
  },
  {
   "cell_type": "code",
   "execution_count": 67,
   "metadata": {},
   "outputs": [],
   "source": [
    "Age = female[female[\"age_group\"] == \"25-34 years\"]"
   ]
  },
  {
   "cell_type": "code",
   "execution_count": 68,
   "metadata": {},
   "outputs": [
    {
     "data": {
      "text/html": [
       "<div>\n",
       "<style scoped>\n",
       "    .dataframe tbody tr th:only-of-type {\n",
       "        vertical-align: middle;\n",
       "    }\n",
       "\n",
       "    .dataframe tbody tr th {\n",
       "        vertical-align: top;\n",
       "    }\n",
       "\n",
       "    .dataframe thead th {\n",
       "        text-align: right;\n",
       "    }\n",
       "</style>\n",
       "<table border=\"1\" class=\"dataframe\">\n",
       "  <thead>\n",
       "    <tr style=\"text-align: right;\">\n",
       "      <th></th>\n",
       "      <th>data_as_of</th>\n",
       "      <th>start_week</th>\n",
       "      <th>end_week</th>\n",
       "      <th>state</th>\n",
       "      <th>sex</th>\n",
       "      <th>age_group</th>\n",
       "      <th>covid_19_deaths</th>\n",
       "      <th>total_deaths</th>\n",
       "      <th>pneumonia_deaths</th>\n",
       "      <th>pneumonia_and_covid_19_deaths</th>\n",
       "      <th>influenza_deaths</th>\n",
       "      <th>pneumonia_influenza_or_covid</th>\n",
       "      <th>footnote</th>\n",
       "    </tr>\n",
       "  </thead>\n",
       "  <tbody>\n",
       "    <tr>\n",
       "      <th>588</th>\n",
       "      <td>2020-07-29T00:00:00.000</td>\n",
       "      <td>2020-02-01T00:00:00.000</td>\n",
       "      <td>2020-07-25T00:00:00.000</td>\n",
       "      <td>Massachusetts</td>\n",
       "      <td>Male</td>\n",
       "      <td>25-34 years</td>\n",
       "      <td>10.0</td>\n",
       "      <td>408.0</td>\n",
       "      <td>11.0</td>\n",
       "      <td>NaN</td>\n",
       "      <td>NaN</td>\n",
       "      <td>17.0</td>\n",
       "      <td>One or more data cells have counts between 1–9...</td>\n",
       "    </tr>\n",
       "  </tbody>\n",
       "</table>\n",
       "</div>"
      ],
      "text/plain": [
       "                  data_as_of               start_week  \\\n",
       "588  2020-07-29T00:00:00.000  2020-02-01T00:00:00.000   \n",
       "\n",
       "                    end_week          state   sex    age_group  \\\n",
       "588  2020-07-25T00:00:00.000  Massachusetts  Male  25-34 years   \n",
       "\n",
       "     covid_19_deaths  total_deaths  pneumonia_deaths  \\\n",
       "588             10.0         408.0              11.0   \n",
       "\n",
       "     pneumonia_and_covid_19_deaths  influenza_deaths  \\\n",
       "588                            NaN               NaN   \n",
       "\n",
       "     pneumonia_influenza_or_covid  \\\n",
       "588                          17.0   \n",
       "\n",
       "                                              footnote  \n",
       "588  One or more data cells have counts between 1–9...  "
      ]
     },
     "execution_count": 68,
     "metadata": {},
     "output_type": "execute_result"
    }
   ],
   "source": [
    "age"
   ]
  },
  {
   "cell_type": "code",
   "execution_count": 69,
   "metadata": {},
   "outputs": [
    {
     "data": {
      "text/html": [
       "<div>\n",
       "<style scoped>\n",
       "    .dataframe tbody tr th:only-of-type {\n",
       "        vertical-align: middle;\n",
       "    }\n",
       "\n",
       "    .dataframe tbody tr th {\n",
       "        vertical-align: top;\n",
       "    }\n",
       "\n",
       "    .dataframe thead th {\n",
       "        text-align: right;\n",
       "    }\n",
       "</style>\n",
       "<table border=\"1\" class=\"dataframe\">\n",
       "  <thead>\n",
       "    <tr style=\"text-align: right;\">\n",
       "      <th></th>\n",
       "      <th>data_as_of</th>\n",
       "      <th>start_week</th>\n",
       "      <th>end_week</th>\n",
       "      <th>state</th>\n",
       "      <th>sex</th>\n",
       "      <th>age_group</th>\n",
       "      <th>covid_19_deaths</th>\n",
       "      <th>total_deaths</th>\n",
       "      <th>pneumonia_deaths</th>\n",
       "      <th>pneumonia_and_covid_19_deaths</th>\n",
       "      <th>influenza_deaths</th>\n",
       "      <th>pneumonia_influenza_or_covid</th>\n",
       "      <th>footnote</th>\n",
       "    </tr>\n",
       "  </thead>\n",
       "  <tbody>\n",
       "    <tr>\n",
       "      <th>600</th>\n",
       "      <td>2020-07-29T00:00:00.000</td>\n",
       "      <td>2020-02-01T00:00:00.000</td>\n",
       "      <td>2020-07-25T00:00:00.000</td>\n",
       "      <td>Massachusetts</td>\n",
       "      <td>Female</td>\n",
       "      <td>25-34 years</td>\n",
       "      <td>NaN</td>\n",
       "      <td>195.0</td>\n",
       "      <td>NaN</td>\n",
       "      <td>NaN</td>\n",
       "      <td>NaN</td>\n",
       "      <td>13.0</td>\n",
       "      <td>One or more data cells have counts between 1–9...</td>\n",
       "    </tr>\n",
       "  </tbody>\n",
       "</table>\n",
       "</div>"
      ],
      "text/plain": [
       "                  data_as_of               start_week  \\\n",
       "600  2020-07-29T00:00:00.000  2020-02-01T00:00:00.000   \n",
       "\n",
       "                    end_week          state     sex    age_group  \\\n",
       "600  2020-07-25T00:00:00.000  Massachusetts  Female  25-34 years   \n",
       "\n",
       "     covid_19_deaths  total_deaths  pneumonia_deaths  \\\n",
       "600              NaN         195.0               NaN   \n",
       "\n",
       "     pneumonia_and_covid_19_deaths  influenza_deaths  \\\n",
       "600                            NaN               NaN   \n",
       "\n",
       "     pneumonia_influenza_or_covid  \\\n",
       "600                          13.0   \n",
       "\n",
       "                                              footnote  \n",
       "600  One or more data cells have counts between 1–9...  "
      ]
     },
     "execution_count": 69,
     "metadata": {},
     "output_type": "execute_result"
    }
   ],
   "source": [
    "Age"
   ]
  },
  {
   "cell_type": "code",
   "execution_count": 70,
   "metadata": {
    "scrolled": true
   },
   "outputs": [
    {
     "data": {
      "text/html": [
       "<div>\n",
       "<style scoped>\n",
       "    .dataframe tbody tr th:only-of-type {\n",
       "        vertical-align: middle;\n",
       "    }\n",
       "\n",
       "    .dataframe tbody tr th {\n",
       "        vertical-align: top;\n",
       "    }\n",
       "\n",
       "    .dataframe thead th {\n",
       "        text-align: right;\n",
       "    }\n",
       "</style>\n",
       "<table border=\"1\" class=\"dataframe\">\n",
       "  <thead>\n",
       "    <tr style=\"text-align: right;\">\n",
       "      <th></th>\n",
       "      <th>data_as_of</th>\n",
       "      <th>start_week</th>\n",
       "      <th>end_week</th>\n",
       "      <th>state</th>\n",
       "      <th>sex</th>\n",
       "      <th>age_group</th>\n",
       "      <th>covid_19_deaths</th>\n",
       "      <th>total_deaths</th>\n",
       "      <th>pneumonia_deaths</th>\n",
       "      <th>pneumonia_and_covid_19_deaths</th>\n",
       "      <th>influenza_deaths</th>\n",
       "      <th>pneumonia_influenza_or_covid</th>\n",
       "      <th>footnote</th>\n",
       "    </tr>\n",
       "  </thead>\n",
       "  <tbody>\n",
       "    <tr>\n",
       "      <th>584</th>\n",
       "      <td>2020-07-29T00:00:00.000</td>\n",
       "      <td>2020-02-01T00:00:00.000</td>\n",
       "      <td>2020-07-25T00:00:00.000</td>\n",
       "      <td>Massachusetts</td>\n",
       "      <td>Male</td>\n",
       "      <td>Under 1 year</td>\n",
       "      <td>0.0</td>\n",
       "      <td>70.0</td>\n",
       "      <td>NaN</td>\n",
       "      <td>0.0</td>\n",
       "      <td>0.0</td>\n",
       "      <td>NaN</td>\n",
       "      <td>One or more data cells have counts between 1–9...</td>\n",
       "    </tr>\n",
       "    <tr>\n",
       "      <th>585</th>\n",
       "      <td>2020-07-29T00:00:00.000</td>\n",
       "      <td>2020-02-01T00:00:00.000</td>\n",
       "      <td>2020-07-25T00:00:00.000</td>\n",
       "      <td>Massachusetts</td>\n",
       "      <td>Male</td>\n",
       "      <td>1-4 years</td>\n",
       "      <td>0.0</td>\n",
       "      <td>NaN</td>\n",
       "      <td>0.0</td>\n",
       "      <td>0.0</td>\n",
       "      <td>0.0</td>\n",
       "      <td>0.0</td>\n",
       "      <td>One or more data cells have counts between 1–9...</td>\n",
       "    </tr>\n",
       "    <tr>\n",
       "      <th>586</th>\n",
       "      <td>2020-07-29T00:00:00.000</td>\n",
       "      <td>2020-02-01T00:00:00.000</td>\n",
       "      <td>2020-07-25T00:00:00.000</td>\n",
       "      <td>Massachusetts</td>\n",
       "      <td>Male</td>\n",
       "      <td>5-14 years</td>\n",
       "      <td>0.0</td>\n",
       "      <td>14.0</td>\n",
       "      <td>0.0</td>\n",
       "      <td>0.0</td>\n",
       "      <td>0.0</td>\n",
       "      <td>0.0</td>\n",
       "      <td>NaN</td>\n",
       "    </tr>\n",
       "    <tr>\n",
       "      <th>587</th>\n",
       "      <td>2020-07-29T00:00:00.000</td>\n",
       "      <td>2020-02-01T00:00:00.000</td>\n",
       "      <td>2020-07-25T00:00:00.000</td>\n",
       "      <td>Massachusetts</td>\n",
       "      <td>Male</td>\n",
       "      <td>15-24 years</td>\n",
       "      <td>NaN</td>\n",
       "      <td>143.0</td>\n",
       "      <td>NaN</td>\n",
       "      <td>NaN</td>\n",
       "      <td>0.0</td>\n",
       "      <td>NaN</td>\n",
       "      <td>One or more data cells have counts between 1–9...</td>\n",
       "    </tr>\n",
       "    <tr>\n",
       "      <th>588</th>\n",
       "      <td>2020-07-29T00:00:00.000</td>\n",
       "      <td>2020-02-01T00:00:00.000</td>\n",
       "      <td>2020-07-25T00:00:00.000</td>\n",
       "      <td>Massachusetts</td>\n",
       "      <td>Male</td>\n",
       "      <td>25-34 years</td>\n",
       "      <td>10.0</td>\n",
       "      <td>408.0</td>\n",
       "      <td>11.0</td>\n",
       "      <td>NaN</td>\n",
       "      <td>NaN</td>\n",
       "      <td>17.0</td>\n",
       "      <td>One or more data cells have counts between 1–9...</td>\n",
       "    </tr>\n",
       "    <tr>\n",
       "      <th>589</th>\n",
       "      <td>2020-07-29T00:00:00.000</td>\n",
       "      <td>2020-02-01T00:00:00.000</td>\n",
       "      <td>2020-07-25T00:00:00.000</td>\n",
       "      <td>Massachusetts</td>\n",
       "      <td>Male</td>\n",
       "      <td>35-44 years</td>\n",
       "      <td>30.0</td>\n",
       "      <td>608.0</td>\n",
       "      <td>25.0</td>\n",
       "      <td>NaN</td>\n",
       "      <td>NaN</td>\n",
       "      <td>51.0</td>\n",
       "      <td>One or more data cells have counts between 1–9...</td>\n",
       "    </tr>\n",
       "    <tr>\n",
       "      <th>590</th>\n",
       "      <td>2020-07-29T00:00:00.000</td>\n",
       "      <td>2020-02-01T00:00:00.000</td>\n",
       "      <td>2020-07-25T00:00:00.000</td>\n",
       "      <td>Massachusetts</td>\n",
       "      <td>Male</td>\n",
       "      <td>45-54 years</td>\n",
       "      <td>93.0</td>\n",
       "      <td>1032.0</td>\n",
       "      <td>62.0</td>\n",
       "      <td>37.0</td>\n",
       "      <td>NaN</td>\n",
       "      <td>124.0</td>\n",
       "      <td>One or more data cells have counts between 1–9...</td>\n",
       "    </tr>\n",
       "    <tr>\n",
       "      <th>591</th>\n",
       "      <td>2020-07-29T00:00:00.000</td>\n",
       "      <td>2020-02-01T00:00:00.000</td>\n",
       "      <td>2020-07-25T00:00:00.000</td>\n",
       "      <td>Massachusetts</td>\n",
       "      <td>Male</td>\n",
       "      <td>55-64 years</td>\n",
       "      <td>330.0</td>\n",
       "      <td>2437.0</td>\n",
       "      <td>268.0</td>\n",
       "      <td>153.0</td>\n",
       "      <td>17.0</td>\n",
       "      <td>461.0</td>\n",
       "      <td>NaN</td>\n",
       "    </tr>\n",
       "    <tr>\n",
       "      <th>592</th>\n",
       "      <td>2020-07-29T00:00:00.000</td>\n",
       "      <td>2020-02-01T00:00:00.000</td>\n",
       "      <td>2020-07-25T00:00:00.000</td>\n",
       "      <td>Massachusetts</td>\n",
       "      <td>Male</td>\n",
       "      <td>65-74 years</td>\n",
       "      <td>716.0</td>\n",
       "      <td>3684.0</td>\n",
       "      <td>532.0</td>\n",
       "      <td>285.0</td>\n",
       "      <td>18.0</td>\n",
       "      <td>981.0</td>\n",
       "      <td>NaN</td>\n",
       "    </tr>\n",
       "    <tr>\n",
       "      <th>593</th>\n",
       "      <td>2020-07-29T00:00:00.000</td>\n",
       "      <td>2020-02-01T00:00:00.000</td>\n",
       "      <td>2020-07-25T00:00:00.000</td>\n",
       "      <td>Massachusetts</td>\n",
       "      <td>Male</td>\n",
       "      <td>75-84 years</td>\n",
       "      <td>1118.0</td>\n",
       "      <td>4610.0</td>\n",
       "      <td>776.0</td>\n",
       "      <td>446.0</td>\n",
       "      <td>25.0</td>\n",
       "      <td>1473.0</td>\n",
       "      <td>NaN</td>\n",
       "    </tr>\n",
       "    <tr>\n",
       "      <th>594</th>\n",
       "      <td>2020-07-29T00:00:00.000</td>\n",
       "      <td>2020-02-01T00:00:00.000</td>\n",
       "      <td>2020-07-25T00:00:00.000</td>\n",
       "      <td>Massachusetts</td>\n",
       "      <td>Male</td>\n",
       "      <td>85 years and over</td>\n",
       "      <td>1352.0</td>\n",
       "      <td>5283.0</td>\n",
       "      <td>885.0</td>\n",
       "      <td>508.0</td>\n",
       "      <td>20.0</td>\n",
       "      <td>1747.0</td>\n",
       "      <td>NaN</td>\n",
       "    </tr>\n",
       "    <tr>\n",
       "      <th>595</th>\n",
       "      <td>2020-07-29T00:00:00.000</td>\n",
       "      <td>2020-02-01T00:00:00.000</td>\n",
       "      <td>2020-07-25T00:00:00.000</td>\n",
       "      <td>Massachusetts</td>\n",
       "      <td>Male</td>\n",
       "      <td>All ages</td>\n",
       "      <td>3653.0</td>\n",
       "      <td>18298.0</td>\n",
       "      <td>2561.0</td>\n",
       "      <td>1443.0</td>\n",
       "      <td>91.0</td>\n",
       "      <td>4859.0</td>\n",
       "      <td>NaN</td>\n",
       "    </tr>\n",
       "  </tbody>\n",
       "</table>\n",
       "</div>"
      ],
      "text/plain": [
       "                  data_as_of               start_week  \\\n",
       "584  2020-07-29T00:00:00.000  2020-02-01T00:00:00.000   \n",
       "585  2020-07-29T00:00:00.000  2020-02-01T00:00:00.000   \n",
       "586  2020-07-29T00:00:00.000  2020-02-01T00:00:00.000   \n",
       "587  2020-07-29T00:00:00.000  2020-02-01T00:00:00.000   \n",
       "588  2020-07-29T00:00:00.000  2020-02-01T00:00:00.000   \n",
       "589  2020-07-29T00:00:00.000  2020-02-01T00:00:00.000   \n",
       "590  2020-07-29T00:00:00.000  2020-02-01T00:00:00.000   \n",
       "591  2020-07-29T00:00:00.000  2020-02-01T00:00:00.000   \n",
       "592  2020-07-29T00:00:00.000  2020-02-01T00:00:00.000   \n",
       "593  2020-07-29T00:00:00.000  2020-02-01T00:00:00.000   \n",
       "594  2020-07-29T00:00:00.000  2020-02-01T00:00:00.000   \n",
       "595  2020-07-29T00:00:00.000  2020-02-01T00:00:00.000   \n",
       "\n",
       "                    end_week          state   sex          age_group  \\\n",
       "584  2020-07-25T00:00:00.000  Massachusetts  Male       Under 1 year   \n",
       "585  2020-07-25T00:00:00.000  Massachusetts  Male          1-4 years   \n",
       "586  2020-07-25T00:00:00.000  Massachusetts  Male         5-14 years   \n",
       "587  2020-07-25T00:00:00.000  Massachusetts  Male        15-24 years   \n",
       "588  2020-07-25T00:00:00.000  Massachusetts  Male        25-34 years   \n",
       "589  2020-07-25T00:00:00.000  Massachusetts  Male        35-44 years   \n",
       "590  2020-07-25T00:00:00.000  Massachusetts  Male        45-54 years   \n",
       "591  2020-07-25T00:00:00.000  Massachusetts  Male        55-64 years   \n",
       "592  2020-07-25T00:00:00.000  Massachusetts  Male        65-74 years   \n",
       "593  2020-07-25T00:00:00.000  Massachusetts  Male        75-84 years   \n",
       "594  2020-07-25T00:00:00.000  Massachusetts  Male  85 years and over   \n",
       "595  2020-07-25T00:00:00.000  Massachusetts  Male           All ages   \n",
       "\n",
       "     covid_19_deaths  total_deaths  pneumonia_deaths  \\\n",
       "584              0.0          70.0               NaN   \n",
       "585              0.0           NaN               0.0   \n",
       "586              0.0          14.0               0.0   \n",
       "587              NaN         143.0               NaN   \n",
       "588             10.0         408.0              11.0   \n",
       "589             30.0         608.0              25.0   \n",
       "590             93.0        1032.0              62.0   \n",
       "591            330.0        2437.0             268.0   \n",
       "592            716.0        3684.0             532.0   \n",
       "593           1118.0        4610.0             776.0   \n",
       "594           1352.0        5283.0             885.0   \n",
       "595           3653.0       18298.0            2561.0   \n",
       "\n",
       "     pneumonia_and_covid_19_deaths  influenza_deaths  \\\n",
       "584                            0.0               0.0   \n",
       "585                            0.0               0.0   \n",
       "586                            0.0               0.0   \n",
       "587                            NaN               0.0   \n",
       "588                            NaN               NaN   \n",
       "589                            NaN               NaN   \n",
       "590                           37.0               NaN   \n",
       "591                          153.0              17.0   \n",
       "592                          285.0              18.0   \n",
       "593                          446.0              25.0   \n",
       "594                          508.0              20.0   \n",
       "595                         1443.0              91.0   \n",
       "\n",
       "     pneumonia_influenza_or_covid  \\\n",
       "584                           NaN   \n",
       "585                           0.0   \n",
       "586                           0.0   \n",
       "587                           NaN   \n",
       "588                          17.0   \n",
       "589                          51.0   \n",
       "590                         124.0   \n",
       "591                         461.0   \n",
       "592                         981.0   \n",
       "593                        1473.0   \n",
       "594                        1747.0   \n",
       "595                        4859.0   \n",
       "\n",
       "                                              footnote  \n",
       "584  One or more data cells have counts between 1–9...  \n",
       "585  One or more data cells have counts between 1–9...  \n",
       "586                                                NaN  \n",
       "587  One or more data cells have counts between 1–9...  \n",
       "588  One or more data cells have counts between 1–9...  \n",
       "589  One or more data cells have counts between 1–9...  \n",
       "590  One or more data cells have counts between 1–9...  \n",
       "591                                                NaN  \n",
       "592                                                NaN  \n",
       "593                                                NaN  \n",
       "594                                                NaN  \n",
       "595                                                NaN  "
      ]
     },
     "execution_count": 70,
     "metadata": {},
     "output_type": "execute_result"
    }
   ],
   "source": [
    "male"
   ]
  },
  {
   "cell_type": "markdown",
   "metadata": {},
   "source": [
    "female"
   ]
  },
  {
   "cell_type": "code",
   "execution_count": 71,
   "metadata": {},
   "outputs": [
    {
     "data": {
      "text/html": [
       "<div>\n",
       "<style scoped>\n",
       "    .dataframe tbody tr th:only-of-type {\n",
       "        vertical-align: middle;\n",
       "    }\n",
       "\n",
       "    .dataframe tbody tr th {\n",
       "        vertical-align: top;\n",
       "    }\n",
       "\n",
       "    .dataframe thead th {\n",
       "        text-align: right;\n",
       "    }\n",
       "</style>\n",
       "<table border=\"1\" class=\"dataframe\">\n",
       "  <thead>\n",
       "    <tr style=\"text-align: right;\">\n",
       "      <th></th>\n",
       "      <th>data_as_of</th>\n",
       "      <th>start_week</th>\n",
       "      <th>end_week</th>\n",
       "      <th>state</th>\n",
       "      <th>sex</th>\n",
       "      <th>age_group</th>\n",
       "      <th>covid_19_deaths</th>\n",
       "      <th>total_deaths</th>\n",
       "      <th>pneumonia_deaths</th>\n",
       "      <th>pneumonia_and_covid_19_deaths</th>\n",
       "      <th>influenza_deaths</th>\n",
       "      <th>pneumonia_influenza_or_covid</th>\n",
       "      <th>footnote</th>\n",
       "    </tr>\n",
       "  </thead>\n",
       "  <tbody>\n",
       "    <tr>\n",
       "      <th>596</th>\n",
       "      <td>2020-07-29T00:00:00.000</td>\n",
       "      <td>2020-02-01T00:00:00.000</td>\n",
       "      <td>2020-07-25T00:00:00.000</td>\n",
       "      <td>Massachusetts</td>\n",
       "      <td>Female</td>\n",
       "      <td>Under 1 year</td>\n",
       "      <td>0.0</td>\n",
       "      <td>50.0</td>\n",
       "      <td>0.0</td>\n",
       "      <td>0.0</td>\n",
       "      <td>0.0</td>\n",
       "      <td>0.0</td>\n",
       "      <td>NaN</td>\n",
       "    </tr>\n",
       "    <tr>\n",
       "      <th>597</th>\n",
       "      <td>2020-07-29T00:00:00.000</td>\n",
       "      <td>2020-02-01T00:00:00.000</td>\n",
       "      <td>2020-07-25T00:00:00.000</td>\n",
       "      <td>Massachusetts</td>\n",
       "      <td>Female</td>\n",
       "      <td>1-4 years</td>\n",
       "      <td>0.0</td>\n",
       "      <td>NaN</td>\n",
       "      <td>0.0</td>\n",
       "      <td>0.0</td>\n",
       "      <td>0.0</td>\n",
       "      <td>0.0</td>\n",
       "      <td>One or more data cells have counts between 1–9...</td>\n",
       "    </tr>\n",
       "    <tr>\n",
       "      <th>598</th>\n",
       "      <td>2020-07-29T00:00:00.000</td>\n",
       "      <td>2020-02-01T00:00:00.000</td>\n",
       "      <td>2020-07-25T00:00:00.000</td>\n",
       "      <td>Massachusetts</td>\n",
       "      <td>Female</td>\n",
       "      <td>5-14 years</td>\n",
       "      <td>0.0</td>\n",
       "      <td>NaN</td>\n",
       "      <td>NaN</td>\n",
       "      <td>0.0</td>\n",
       "      <td>0.0</td>\n",
       "      <td>NaN</td>\n",
       "      <td>One or more data cells have counts between 1–9...</td>\n",
       "    </tr>\n",
       "    <tr>\n",
       "      <th>599</th>\n",
       "      <td>2020-07-29T00:00:00.000</td>\n",
       "      <td>2020-02-01T00:00:00.000</td>\n",
       "      <td>2020-07-25T00:00:00.000</td>\n",
       "      <td>Massachusetts</td>\n",
       "      <td>Female</td>\n",
       "      <td>15-24 years</td>\n",
       "      <td>NaN</td>\n",
       "      <td>65.0</td>\n",
       "      <td>NaN</td>\n",
       "      <td>NaN</td>\n",
       "      <td>NaN</td>\n",
       "      <td>NaN</td>\n",
       "      <td>One or more data cells have counts between 1–9...</td>\n",
       "    </tr>\n",
       "    <tr>\n",
       "      <th>600</th>\n",
       "      <td>2020-07-29T00:00:00.000</td>\n",
       "      <td>2020-02-01T00:00:00.000</td>\n",
       "      <td>2020-07-25T00:00:00.000</td>\n",
       "      <td>Massachusetts</td>\n",
       "      <td>Female</td>\n",
       "      <td>25-34 years</td>\n",
       "      <td>NaN</td>\n",
       "      <td>195.0</td>\n",
       "      <td>NaN</td>\n",
       "      <td>NaN</td>\n",
       "      <td>NaN</td>\n",
       "      <td>13.0</td>\n",
       "      <td>One or more data cells have counts between 1–9...</td>\n",
       "    </tr>\n",
       "    <tr>\n",
       "      <th>601</th>\n",
       "      <td>2020-07-29T00:00:00.000</td>\n",
       "      <td>2020-02-01T00:00:00.000</td>\n",
       "      <td>2020-07-25T00:00:00.000</td>\n",
       "      <td>Massachusetts</td>\n",
       "      <td>Female</td>\n",
       "      <td>35-44 years</td>\n",
       "      <td>13.0</td>\n",
       "      <td>282.0</td>\n",
       "      <td>10.0</td>\n",
       "      <td>NaN</td>\n",
       "      <td>0.0</td>\n",
       "      <td>18.0</td>\n",
       "      <td>One or more data cells have counts between 1–9...</td>\n",
       "    </tr>\n",
       "    <tr>\n",
       "      <th>602</th>\n",
       "      <td>2020-07-29T00:00:00.000</td>\n",
       "      <td>2020-02-01T00:00:00.000</td>\n",
       "      <td>2020-07-25T00:00:00.000</td>\n",
       "      <td>Massachusetts</td>\n",
       "      <td>Female</td>\n",
       "      <td>45-54 years</td>\n",
       "      <td>64.0</td>\n",
       "      <td>548.0</td>\n",
       "      <td>35.0</td>\n",
       "      <td>18.0</td>\n",
       "      <td>NaN</td>\n",
       "      <td>83.0</td>\n",
       "      <td>One or more data cells have counts between 1–9...</td>\n",
       "    </tr>\n",
       "    <tr>\n",
       "      <th>603</th>\n",
       "      <td>2020-07-29T00:00:00.000</td>\n",
       "      <td>2020-02-01T00:00:00.000</td>\n",
       "      <td>2020-07-25T00:00:00.000</td>\n",
       "      <td>Massachusetts</td>\n",
       "      <td>Female</td>\n",
       "      <td>55-64 years</td>\n",
       "      <td>193.0</td>\n",
       "      <td>1399.0</td>\n",
       "      <td>151.0</td>\n",
       "      <td>89.0</td>\n",
       "      <td>NaN</td>\n",
       "      <td>261.0</td>\n",
       "      <td>One or more data cells have counts between 1–9...</td>\n",
       "    </tr>\n",
       "    <tr>\n",
       "      <th>604</th>\n",
       "      <td>2020-07-29T00:00:00.000</td>\n",
       "      <td>2020-02-01T00:00:00.000</td>\n",
       "      <td>2020-07-25T00:00:00.000</td>\n",
       "      <td>Massachusetts</td>\n",
       "      <td>Female</td>\n",
       "      <td>65-74 years</td>\n",
       "      <td>479.0</td>\n",
       "      <td>2638.0</td>\n",
       "      <td>343.0</td>\n",
       "      <td>202.0</td>\n",
       "      <td>10.0</td>\n",
       "      <td>630.0</td>\n",
       "      <td>NaN</td>\n",
       "    </tr>\n",
       "    <tr>\n",
       "      <th>605</th>\n",
       "      <td>2020-07-29T00:00:00.000</td>\n",
       "      <td>2020-02-01T00:00:00.000</td>\n",
       "      <td>2020-07-25T00:00:00.000</td>\n",
       "      <td>Massachusetts</td>\n",
       "      <td>Female</td>\n",
       "      <td>75-84 years</td>\n",
       "      <td>1022.0</td>\n",
       "      <td>4415.0</td>\n",
       "      <td>644.0</td>\n",
       "      <td>374.0</td>\n",
       "      <td>19.0</td>\n",
       "      <td>1311.0</td>\n",
       "      <td>NaN</td>\n",
       "    </tr>\n",
       "    <tr>\n",
       "      <th>606</th>\n",
       "      <td>2020-07-29T00:00:00.000</td>\n",
       "      <td>2020-02-01T00:00:00.000</td>\n",
       "      <td>2020-07-25T00:00:00.000</td>\n",
       "      <td>Massachusetts</td>\n",
       "      <td>Female</td>\n",
       "      <td>85 years and over</td>\n",
       "      <td>2363.0</td>\n",
       "      <td>9044.0</td>\n",
       "      <td>1193.0</td>\n",
       "      <td>675.0</td>\n",
       "      <td>30.0</td>\n",
       "      <td>2909.0</td>\n",
       "      <td>NaN</td>\n",
       "    </tr>\n",
       "    <tr>\n",
       "      <th>607</th>\n",
       "      <td>2020-07-29T00:00:00.000</td>\n",
       "      <td>2020-02-01T00:00:00.000</td>\n",
       "      <td>2020-07-25T00:00:00.000</td>\n",
       "      <td>Massachusetts</td>\n",
       "      <td>Female</td>\n",
       "      <td>All ages</td>\n",
       "      <td>4142.0</td>\n",
       "      <td>18650.0</td>\n",
       "      <td>2386.0</td>\n",
       "      <td>1367.0</td>\n",
       "      <td>72.0</td>\n",
       "      <td>5228.0</td>\n",
       "      <td>NaN</td>\n",
       "    </tr>\n",
       "  </tbody>\n",
       "</table>\n",
       "</div>"
      ],
      "text/plain": [
       "                  data_as_of               start_week  \\\n",
       "596  2020-07-29T00:00:00.000  2020-02-01T00:00:00.000   \n",
       "597  2020-07-29T00:00:00.000  2020-02-01T00:00:00.000   \n",
       "598  2020-07-29T00:00:00.000  2020-02-01T00:00:00.000   \n",
       "599  2020-07-29T00:00:00.000  2020-02-01T00:00:00.000   \n",
       "600  2020-07-29T00:00:00.000  2020-02-01T00:00:00.000   \n",
       "601  2020-07-29T00:00:00.000  2020-02-01T00:00:00.000   \n",
       "602  2020-07-29T00:00:00.000  2020-02-01T00:00:00.000   \n",
       "603  2020-07-29T00:00:00.000  2020-02-01T00:00:00.000   \n",
       "604  2020-07-29T00:00:00.000  2020-02-01T00:00:00.000   \n",
       "605  2020-07-29T00:00:00.000  2020-02-01T00:00:00.000   \n",
       "606  2020-07-29T00:00:00.000  2020-02-01T00:00:00.000   \n",
       "607  2020-07-29T00:00:00.000  2020-02-01T00:00:00.000   \n",
       "\n",
       "                    end_week          state     sex          age_group  \\\n",
       "596  2020-07-25T00:00:00.000  Massachusetts  Female       Under 1 year   \n",
       "597  2020-07-25T00:00:00.000  Massachusetts  Female          1-4 years   \n",
       "598  2020-07-25T00:00:00.000  Massachusetts  Female         5-14 years   \n",
       "599  2020-07-25T00:00:00.000  Massachusetts  Female        15-24 years   \n",
       "600  2020-07-25T00:00:00.000  Massachusetts  Female        25-34 years   \n",
       "601  2020-07-25T00:00:00.000  Massachusetts  Female        35-44 years   \n",
       "602  2020-07-25T00:00:00.000  Massachusetts  Female        45-54 years   \n",
       "603  2020-07-25T00:00:00.000  Massachusetts  Female        55-64 years   \n",
       "604  2020-07-25T00:00:00.000  Massachusetts  Female        65-74 years   \n",
       "605  2020-07-25T00:00:00.000  Massachusetts  Female        75-84 years   \n",
       "606  2020-07-25T00:00:00.000  Massachusetts  Female  85 years and over   \n",
       "607  2020-07-25T00:00:00.000  Massachusetts  Female           All ages   \n",
       "\n",
       "     covid_19_deaths  total_deaths  pneumonia_deaths  \\\n",
       "596              0.0          50.0               0.0   \n",
       "597              0.0           NaN               0.0   \n",
       "598              0.0           NaN               NaN   \n",
       "599              NaN          65.0               NaN   \n",
       "600              NaN         195.0               NaN   \n",
       "601             13.0         282.0              10.0   \n",
       "602             64.0         548.0              35.0   \n",
       "603            193.0        1399.0             151.0   \n",
       "604            479.0        2638.0             343.0   \n",
       "605           1022.0        4415.0             644.0   \n",
       "606           2363.0        9044.0            1193.0   \n",
       "607           4142.0       18650.0            2386.0   \n",
       "\n",
       "     pneumonia_and_covid_19_deaths  influenza_deaths  \\\n",
       "596                            0.0               0.0   \n",
       "597                            0.0               0.0   \n",
       "598                            0.0               0.0   \n",
       "599                            NaN               NaN   \n",
       "600                            NaN               NaN   \n",
       "601                            NaN               0.0   \n",
       "602                           18.0               NaN   \n",
       "603                           89.0               NaN   \n",
       "604                          202.0              10.0   \n",
       "605                          374.0              19.0   \n",
       "606                          675.0              30.0   \n",
       "607                         1367.0              72.0   \n",
       "\n",
       "     pneumonia_influenza_or_covid  \\\n",
       "596                           0.0   \n",
       "597                           0.0   \n",
       "598                           NaN   \n",
       "599                           NaN   \n",
       "600                          13.0   \n",
       "601                          18.0   \n",
       "602                          83.0   \n",
       "603                         261.0   \n",
       "604                         630.0   \n",
       "605                        1311.0   \n",
       "606                        2909.0   \n",
       "607                        5228.0   \n",
       "\n",
       "                                              footnote  \n",
       "596                                                NaN  \n",
       "597  One or more data cells have counts between 1–9...  \n",
       "598  One or more data cells have counts between 1–9...  \n",
       "599  One or more data cells have counts between 1–9...  \n",
       "600  One or more data cells have counts between 1–9...  \n",
       "601  One or more data cells have counts between 1–9...  \n",
       "602  One or more data cells have counts between 1–9...  \n",
       "603  One or more data cells have counts between 1–9...  \n",
       "604                                                NaN  \n",
       "605                                                NaN  \n",
       "606                                                NaN  \n",
       "607                                                NaN  "
      ]
     },
     "execution_count": 71,
     "metadata": {},
     "output_type": "execute_result"
    }
   ],
   "source": [
    "female"
   ]
  },
  {
   "cell_type": "code",
   "execution_count": 72,
   "metadata": {},
   "outputs": [],
   "source": [
    "total = female[\"total_deaths\"].values"
   ]
  },
  {
   "cell_type": "code",
   "execution_count": 73,
   "metadata": {},
   "outputs": [],
   "source": [
    "Total = male[\"total_deaths\"].values"
   ]
  },
  {
   "cell_type": "code",
   "execution_count": 74,
   "metadata": {},
   "outputs": [
    {
     "data": {
      "text/plain": [
       "array([  120.,    nan,    nan,   208.,   603.,   890.,  1580.,  3836.,\n",
       "        6322.,  9025., 14327., 36948.])"
      ]
     },
     "execution_count": 74,
     "metadata": {},
     "output_type": "execute_result"
    }
   ],
   "source": [
    "total + Total"
   ]
  },
  {
   "cell_type": "code",
   "execution_count": null,
   "metadata": {},
   "outputs": [],
   "source": []
  }
 ],
 "metadata": {
  "kernelspec": {
   "display_name": "Python 3",
   "language": "python",
   "name": "python3"
  },
  "language_info": {
   "codemirror_mode": {
    "name": "ipython",
    "version": 3
   },
   "file_extension": ".py",
   "mimetype": "text/x-python",
   "name": "python",
   "nbconvert_exporter": "python",
   "pygments_lexer": "ipython3",
   "version": "3.8.3"
  }
 },
 "nbformat": 4,
 "nbformat_minor": 4
}
